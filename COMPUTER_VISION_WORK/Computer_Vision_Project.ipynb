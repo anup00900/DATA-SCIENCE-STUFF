{
 "cells": [
  {
   "cell_type": "code",
   "execution_count": 1,
   "id": "070ccf34",
   "metadata": {},
   "outputs": [],
   "source": [
    "import cv2\n"
   ]
  },
  {
   "cell_type": "code",
   "execution_count": 2,
   "id": "0bc9b577",
   "metadata": {},
   "outputs": [
    {
     "data": {
      "text/plain": [
       "'4.5.5'"
      ]
     },
     "execution_count": 2,
     "metadata": {},
     "output_type": "execute_result"
    }
   ],
   "source": [
    "cv2.__version__"
   ]
  },
  {
   "cell_type": "code",
   "execution_count": 3,
   "id": "63a439b6",
   "metadata": {},
   "outputs": [],
   "source": [
    "import mediapipe as mp "
   ]
  },
  {
   "cell_type": "code",
   "execution_count": 4,
   "id": "1f6f764b",
   "metadata": {},
   "outputs": [
    {
     "name": "stdout",
     "output_type": "stream",
     "text": [
      "Requirement already satisfied: pydirectinput in c:\\users\\anupd\\anaconda3\\lib\\site-packages (1.0.4)\n"
     ]
    }
   ],
   "source": [
    "!pip install pydirectinput  "
   ]
  },
  {
   "cell_type": "code",
   "execution_count": 5,
   "id": "b6154e44",
   "metadata": {},
   "outputs": [],
   "source": [
    "mp_drawing = mp.solutions.drawing_utils\n",
    "holistic = mp.solutions.holistic\n",
    "mp_pose = mp.solutions.pose"
   ]
  },
  {
   "cell_type": "code",
   "execution_count": 6,
   "id": "ab76abdd",
   "metadata": {},
   "outputs": [],
   "source": [
    "import pydirectinput"
   ]
  },
  {
   "cell_type": "code",
   "execution_count": null,
   "id": "aec44f0e",
   "metadata": {},
   "outputs": [],
   "source": [
    "cap = cv2.VideoCapture(0)\n",
    "with mp_pose.Pose(min_detection_confidence=0.5,min_tracking_confidence=0.5) as holis :\n",
    "    while 1: \n",
    "        _,frame = cap.read()\n",
    "        #fr = cv2.cvtColor(frame,cv2.COLOR_BGR2RGB)\n",
    "        #frame = cv2.flip(frame,1)\n",
    "        #fr = cv2.flip(fr,1)\n",
    "        results = holis.process(frame)\n",
    "        height,width,_ = frame.shape\n",
    "       # print(frame.shape)\n",
    "        pose=\"move\"\n",
    "        y=y_mid = height//2\n",
    "        if results.pose_landmarks  :\n",
    "            right_hand = (results.pose_landmarks.landmark[mp_pose.PoseLandmark.NOSE].x * width,\n",
    "                         results.pose_landmarks.landmark[mp_pose.PoseLandmark.NOSE].y * height)\n",
    "            x=right_hand[0]\n",
    "            if(right_hand[1]<y_mid):\n",
    "                pose=\"acc\"\n",
    "                pydirectinput.keyUp('left')\n",
    "                pydirectinput.keyDown('right')\n",
    "            elif(right_hand[1]>y_mid):\n",
    "                pose=\"break\"\n",
    "                pydirectinput.keyUp('right')\n",
    "                pydirectinput.keyDown('left')\n",
    "            else:\n",
    "                pose=\"Move\"\n",
    "                pydirectinput.keyUp('right')\n",
    "                pydirectinput.keyUp('left')\n",
    "        cv2.line(frame,(0,y),(width,y),(0,0,255),2)\n",
    "        cv2.putText(frame,pose,(30,30),cv2.FONT_HERSHEY_SIMPLEX,2,(0,0,255),2)\n",
    "        cv2.imshow('win1',frame)\n",
    "        if cv2.waitKey(1)==ord('q'):\n",
    "            break\n",
    "cap.release()\n",
    "cv2.destroyAllWindows()            \n"
   ]
  },
  {
   "cell_type": "code",
   "execution_count": null,
   "id": "e3658374",
   "metadata": {},
   "outputs": [],
   "source": []
  },
  {
   "cell_type": "code",
   "execution_count": null,
   "id": "dee4fe1f",
   "metadata": {},
   "outputs": [],
   "source": []
  }
 ],
 "metadata": {
  "kernelspec": {
   "display_name": "Python 3 (ipykernel)",
   "language": "python",
   "name": "python3"
  },
  "language_info": {
   "codemirror_mode": {
    "name": "ipython",
    "version": 3
   },
   "file_extension": ".py",
   "mimetype": "text/x-python",
   "name": "python",
   "nbconvert_exporter": "python",
   "pygments_lexer": "ipython3",
   "version": "3.9.7"
  }
 },
 "nbformat": 4,
 "nbformat_minor": 5
}
