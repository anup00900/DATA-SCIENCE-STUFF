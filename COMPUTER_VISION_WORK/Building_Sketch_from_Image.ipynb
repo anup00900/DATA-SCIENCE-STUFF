{
 "cells": [
  {
   "cell_type": "code",
   "execution_count": 1,
   "id": "4b89111e",
   "metadata": {},
   "outputs": [],
   "source": [
    "import cv2"
   ]
  },
  {
   "cell_type": "code",
   "execution_count": 2,
   "id": "6bc13cc9",
   "metadata": {},
   "outputs": [],
   "source": [
    "img_load = cv2.imread('C:/Users/anupd/Dropbox/My PC (DESKTOP-3NLVKAJ)/Downloads/IMG_20210302_090956.jpg')"
   ]
  },
  {
   "cell_type": "code",
   "execution_count": 3,
   "id": "c9549ef7",
   "metadata": {},
   "outputs": [],
   "source": [
    "cv2.imshow('window1',img_load)\n",
    "cv2.waitKey(0)\n",
    "cv2.destroyAllWindows()\n"
   ]
  },
  {
   "cell_type": "markdown",
   "id": "9da4decf",
   "metadata": {},
   "source": [
    " Convert the color image to grayscale"
   ]
  },
  {
   "cell_type": "code",
   "execution_count": 4,
   "id": "e398aa5e",
   "metadata": {},
   "outputs": [],
   "source": [
    "img_gray = cv2.cvtColor(img_load, cv2.COLOR_BGR2GRAY)"
   ]
  },
  {
   "cell_type": "code",
   "execution_count": 5,
   "id": "a4cc5f11",
   "metadata": {},
   "outputs": [],
   "source": [
    "cv2.imshow('window2',img_gray)\n",
    "cv2.waitKey(0)\n",
    "cv2.destroyAllWindows()"
   ]
  },
  {
   "cell_type": "markdown",
   "id": "f8200e71",
   "metadata": {},
   "source": [
    "Obtain a negative"
   ]
  },
  {
   "cell_type": "code",
   "execution_count": 16,
   "id": "fc872133",
   "metadata": {},
   "outputs": [],
   "source": [
    "img_gray_inv = 255 - img_gray"
   ]
  },
  {
   "cell_type": "code",
   "execution_count": 17,
   "id": "1a5a0f54",
   "metadata": {},
   "outputs": [],
   "source": [
    "cv2.imshow('window3',img_gray_inv)\n",
    "cv2.waitKey(0)\n",
    "cv2.destroyAllWindows()"
   ]
  },
  {
   "cell_type": "markdown",
   "id": "cd22f101",
   "metadata": {},
   "source": [
    "Image Smoothening"
   ]
  },
  {
   "cell_type": "code",
   "execution_count": 32,
   "id": "4f530e41",
   "metadata": {},
   "outputs": [],
   "source": [
    "img_blur = cv2.GaussianBlur(img_gray_inv, ksize=(11, 21),\n",
    "                            sigmaX=0, sigmaY=0)"
   ]
  },
  {
   "cell_type": "code",
   "execution_count": 33,
   "id": "701f121c",
   "metadata": {},
   "outputs": [],
   "source": [
    "cv2.imshow('window3',img_blur)\n",
    "cv2.waitKey(0)\n",
    "cv2.destroyAllWindows()"
   ]
  },
  {
   "cell_type": "code",
   "execution_count": 34,
   "id": "4c950ef3",
   "metadata": {},
   "outputs": [],
   "source": [
    "inv_blur = cv2.bitwise_not(img_blur)\n",
    "sk = cv2.divide(img_gray,inv_blur,scale=256.0)\n",
    "cv2.imshow('window4',sk)\n",
    "cv2.waitKey(0)\n",
    "cv2.destroyAllWindows()"
   ]
  },
  {
   "cell_type": "code",
   "execution_count": null,
   "id": "bbb4ec78",
   "metadata": {},
   "outputs": [],
   "source": []
  },
  {
   "cell_type": "code",
   "execution_count": null,
   "id": "31733550",
   "metadata": {},
   "outputs": [],
   "source": []
  }
 ],
 "metadata": {
  "kernelspec": {
   "display_name": "Python 3 (ipykernel)",
   "language": "python",
   "name": "python3"
  },
  "language_info": {
   "codemirror_mode": {
    "name": "ipython",
    "version": 3
   },
   "file_extension": ".py",
   "mimetype": "text/x-python",
   "name": "python",
   "nbconvert_exporter": "python",
   "pygments_lexer": "ipython3",
   "version": "3.9.7"
  }
 },
 "nbformat": 4,
 "nbformat_minor": 5
}
