{
  "nbformat": 4,
  "nbformat_minor": 0,
  "metadata": {
    "colab": {
      "name": "NumpyAssignment_work.ipynb",
      "provenance": []
    },
    "kernelspec": {
      "name": "python3",
      "display_name": "Python 3"
    },
    "language_info": {
      "name": "python"
    }
  },
  "cells": [
    {
      "cell_type": "markdown",
      "source": [
        "# Import Numpy as np"
      ],
      "metadata": {
        "id": "khfS36Rz3JBB"
      }
    },
    {
      "cell_type": "code",
      "execution_count": 1,
      "metadata": {
        "id": "ToEtNosRhw-L"
      },
      "outputs": [],
      "source": [
        "import numpy as np"
      ]
    },
    {
      "cell_type": "markdown",
      "source": [
        "Create Array of 10 zeros"
      ],
      "metadata": {
        "id": "5fIASpB13ObR"
      }
    },
    {
      "cell_type": "code",
      "source": [
        "np.zeros(10)"
      ],
      "metadata": {
        "colab": {
          "base_uri": "https://localhost:8080/"
        },
        "id": "vH1vqlLc2QmK",
        "outputId": "463f0906-e788-4d3a-9869-6cd6003adff4"
      },
      "execution_count": 2,
      "outputs": [
        {
          "output_type": "execute_result",
          "data": {
            "text/plain": [
              "array([0., 0., 0., 0., 0., 0., 0., 0., 0., 0.])"
            ]
          },
          "metadata": {},
          "execution_count": 2
        }
      ]
    },
    {
      "cell_type": "markdown",
      "source": [
        "Create array of 10 ones"
      ],
      "metadata": {
        "id": "E5YMEugP3SIB"
      }
    },
    {
      "cell_type": "code",
      "source": [
        "np.ones(10)"
      ],
      "metadata": {
        "colab": {
          "base_uri": "https://localhost:8080/"
        },
        "id": "EZHaWkb42VM_",
        "outputId": "4c3f4c68-f446-4799-912f-d64f4fdc0290"
      },
      "execution_count": 3,
      "outputs": [
        {
          "output_type": "execute_result",
          "data": {
            "text/plain": [
              "array([1., 1., 1., 1., 1., 1., 1., 1., 1., 1.])"
            ]
          },
          "metadata": {},
          "execution_count": 3
        }
      ]
    },
    {
      "cell_type": "markdown",
      "source": [
        "Create array of 10 fives"
      ],
      "metadata": {
        "id": "ybCJrGus3V4C"
      }
    },
    {
      "cell_type": "code",
      "source": [
        "print(np.ones(10,dtype = int)*5)"
      ],
      "metadata": {
        "colab": {
          "base_uri": "https://localhost:8080/"
        },
        "id": "4Bs5sMHO2avk",
        "outputId": "9e4501dd-1048-47f9-8677-880a46412269"
      },
      "execution_count": 4,
      "outputs": [
        {
          "output_type": "stream",
          "name": "stdout",
          "text": [
            "[5 5 5 5 5 5 5 5 5 5]\n"
          ]
        }
      ]
    },
    {
      "cell_type": "markdown",
      "source": [
        "Create an array of the integers from 10 to 50"
      ],
      "metadata": {
        "id": "3UWnqoo_3eJg"
      }
    },
    {
      "cell_type": "code",
      "source": [
        "np.arange(10,51)"
      ],
      "metadata": {
        "colab": {
          "base_uri": "https://localhost:8080/"
        },
        "id": "_cf615fI2j70",
        "outputId": "9413b2f0-7982-49d9-cfb5-e7a9f4c08c5d"
      },
      "execution_count": 5,
      "outputs": [
        {
          "output_type": "execute_result",
          "data": {
            "text/plain": [
              "array([10, 11, 12, 13, 14, 15, 16, 17, 18, 19, 20, 21, 22, 23, 24, 25, 26,\n",
              "       27, 28, 29, 30, 31, 32, 33, 34, 35, 36, 37, 38, 39, 40, 41, 42, 43,\n",
              "       44, 45, 46, 47, 48, 49, 50])"
            ]
          },
          "metadata": {},
          "execution_count": 5
        }
      ]
    },
    {
      "cell_type": "markdown",
      "source": [
        "Create an array of all the even integers from 10 to 50"
      ],
      "metadata": {
        "id": "Wyx88R2T3qzb"
      }
    },
    {
      "cell_type": "code",
      "source": [
        "np.arange(10,51,2)"
      ],
      "metadata": {
        "colab": {
          "base_uri": "https://localhost:8080/"
        },
        "id": "JuaL1ksr3ip6",
        "outputId": "b87eb3b6-805e-4b4e-c625-2ba3f47e1a2a"
      },
      "execution_count": 6,
      "outputs": [
        {
          "output_type": "execute_result",
          "data": {
            "text/plain": [
              "array([10, 12, 14, 16, 18, 20, 22, 24, 26, 28, 30, 32, 34, 36, 38, 40, 42,\n",
              "       44, 46, 48, 50])"
            ]
          },
          "metadata": {},
          "execution_count": 6
        }
      ]
    },
    {
      "cell_type": "markdown",
      "source": [
        "Create a 3x4 matrix with numbers ranging from 0 to 12"
      ],
      "metadata": {
        "id": "cgTw7QcZ37Ci"
      }
    },
    {
      "cell_type": "code",
      "source": [
        "np.arange(3*4).reshape((3,4))"
      ],
      "metadata": {
        "colab": {
          "base_uri": "https://localhost:8080/"
        },
        "id": "ANru_CNG33Wv",
        "outputId": "06ea67d9-bc0e-4d65-a33e-cfcbe732f2df"
      },
      "execution_count": 7,
      "outputs": [
        {
          "output_type": "execute_result",
          "data": {
            "text/plain": [
              "array([[ 0,  1,  2,  3],\n",
              "       [ 4,  5,  6,  7],\n",
              "       [ 8,  9, 10, 11]])"
            ]
          },
          "metadata": {},
          "execution_count": 7
        }
      ]
    },
    {
      "cell_type": "markdown",
      "source": [
        "Create a 3x3 identity matrix"
      ],
      "metadata": {
        "id": "W59Jl-T6Ogbt"
      }
    },
    {
      "cell_type": "code",
      "source": [
        "np.eye(3,dtype=int)"
      ],
      "metadata": {
        "colab": {
          "base_uri": "https://localhost:8080/"
        },
        "id": "LVou5oqL4psr",
        "outputId": "12018bf4-1066-4467-d90c-e6893283038e"
      },
      "execution_count": 8,
      "outputs": [
        {
          "output_type": "execute_result",
          "data": {
            "text/plain": [
              "array([[1, 0, 0],\n",
              "       [0, 1, 0],\n",
              "       [0, 0, 1]])"
            ]
          },
          "metadata": {},
          "execution_count": 8
        }
      ]
    },
    {
      "cell_type": "code",
      "source": [
        "np.diag([1,1,1])"
      ],
      "metadata": {
        "colab": {
          "base_uri": "https://localhost:8080/"
        },
        "id": "2LN8QltFOeYW",
        "outputId": "1000ad27-b787-4874-8836-f4b5f3d4947c"
      },
      "execution_count": 9,
      "outputs": [
        {
          "output_type": "execute_result",
          "data": {
            "text/plain": [
              "array([[1, 0, 0],\n",
              "       [0, 1, 0],\n",
              "       [0, 0, 1]])"
            ]
          },
          "metadata": {},
          "execution_count": 9
        }
      ]
    },
    {
      "cell_type": "markdown",
      "source": [
        "Use Numpy to generate a random number between 0 and 1"
      ],
      "metadata": {
        "id": "vRI4QNpIOwHX"
      }
    },
    {
      "cell_type": "code",
      "source": [
        "a = np.random.rand() #uniform distribution"
      ],
      "metadata": {
        "id": "V2yy8yb4Ons_"
      },
      "execution_count": 10,
      "outputs": []
    },
    {
      "cell_type": "code",
      "source": [
        "a"
      ],
      "metadata": {
        "colab": {
          "base_uri": "https://localhost:8080/"
        },
        "id": "2PMyx7dGPHde",
        "outputId": "27e1592c-c1b0-4900-bd1d-2a191722c4e4"
      },
      "execution_count": 11,
      "outputs": [
        {
          "output_type": "execute_result",
          "data": {
            "text/plain": [
              "0.9142270623535627"
            ]
          },
          "metadata": {},
          "execution_count": 11
        }
      ]
    },
    {
      "cell_type": "markdown",
      "source": [
        "Use Numpy to generate an array of 25 random numbers sampled from a standard normal distribution"
      ],
      "metadata": {
        "id": "pFPvJvmbRKVr"
      }
    },
    {
      "cell_type": "code",
      "source": [
        "np.random.randn(25) #normal Distributuion"
      ],
      "metadata": {
        "colab": {
          "base_uri": "https://localhost:8080/"
        },
        "id": "cY-p42dAPIZV",
        "outputId": "845c06f8-c318-4276-e964-346716e6d14b"
      },
      "execution_count": 12,
      "outputs": [
        {
          "output_type": "execute_result",
          "data": {
            "text/plain": [
              "array([-1.50284012,  0.55268517,  0.05675967, -0.30899794, -0.32206156,\n",
              "       -1.03204744,  2.07102599, -0.19369461,  0.79965824, -0.56934823,\n",
              "        0.53898236,  1.58502968, -1.02737796,  0.0025953 ,  0.98985087,\n",
              "        0.02629416, -0.30338261,  0.16677287,  1.32969765, -0.12198495,\n",
              "        0.49210117,  0.97486176, -0.75482844,  0.45018893,  0.07657543])"
            ]
          },
          "metadata": {},
          "execution_count": 12
        }
      ]
    },
    {
      "cell_type": "markdown",
      "source": [
        "Create an (10x10)array having numbers from 0.01 to 1 increasing by 0.01"
      ],
      "metadata": {
        "id": "5FXATvmbUUft"
      }
    },
    {
      "cell_type": "code",
      "source": [
        "np.arange(0.00,1,0.01).reshape((10,10))"
      ],
      "metadata": {
        "colab": {
          "base_uri": "https://localhost:8080/"
        },
        "id": "tFtSIzgZRQdb",
        "outputId": "e5ae360b-deb5-4dbe-b3ef-fdfa0f5208d0"
      },
      "execution_count": 13,
      "outputs": [
        {
          "output_type": "execute_result",
          "data": {
            "text/plain": [
              "array([[0.  , 0.01, 0.02, 0.03, 0.04, 0.05, 0.06, 0.07, 0.08, 0.09],\n",
              "       [0.1 , 0.11, 0.12, 0.13, 0.14, 0.15, 0.16, 0.17, 0.18, 0.19],\n",
              "       [0.2 , 0.21, 0.22, 0.23, 0.24, 0.25, 0.26, 0.27, 0.28, 0.29],\n",
              "       [0.3 , 0.31, 0.32, 0.33, 0.34, 0.35, 0.36, 0.37, 0.38, 0.39],\n",
              "       [0.4 , 0.41, 0.42, 0.43, 0.44, 0.45, 0.46, 0.47, 0.48, 0.49],\n",
              "       [0.5 , 0.51, 0.52, 0.53, 0.54, 0.55, 0.56, 0.57, 0.58, 0.59],\n",
              "       [0.6 , 0.61, 0.62, 0.63, 0.64, 0.65, 0.66, 0.67, 0.68, 0.69],\n",
              "       [0.7 , 0.71, 0.72, 0.73, 0.74, 0.75, 0.76, 0.77, 0.78, 0.79],\n",
              "       [0.8 , 0.81, 0.82, 0.83, 0.84, 0.85, 0.86, 0.87, 0.88, 0.89],\n",
              "       [0.9 , 0.91, 0.92, 0.93, 0.94, 0.95, 0.96, 0.97, 0.98, 0.99]])"
            ]
          },
          "metadata": {},
          "execution_count": 13
        }
      ]
    },
    {
      "cell_type": "markdown",
      "source": [
        "Numpy Indexing and Slicing"
      ],
      "metadata": {
        "id": "rXzpbalhVrda"
      }
    },
    {
      "cell_type": "code",
      "source": [
        "ar = (np.arange(25)+1).reshape(5,5)\n",
        "ar"
      ],
      "metadata": {
        "colab": {
          "base_uri": "https://localhost:8080/"
        },
        "id": "WMsPCGnZUlvu",
        "outputId": "7597e130-4063-43d6-bc01-41f6068902b0"
      },
      "execution_count": 14,
      "outputs": [
        {
          "output_type": "execute_result",
          "data": {
            "text/plain": [
              "array([[ 1,  2,  3,  4,  5],\n",
              "       [ 6,  7,  8,  9, 10],\n",
              "       [11, 12, 13, 14, 15],\n",
              "       [16, 17, 18, 19, 20],\n",
              "       [21, 22, 23, 24, 25]])"
            ]
          },
          "metadata": {},
          "execution_count": 14
        }
      ]
    },
    {
      "cell_type": "markdown",
      "source": [
        "extract array\n",
        "\n",
        "[ [12,13,14],\n",
        "\n",
        "[17,18,19],\n",
        "\n",
        "[22,23,24] ]"
      ],
      "metadata": {
        "id": "4gw19CqjWt0I"
      }
    },
    {
      "cell_type": "code",
      "source": [
        "ar[2:,1:4]"
      ],
      "metadata": {
        "colab": {
          "base_uri": "https://localhost:8080/"
        },
        "id": "LRoqfA64WpUl",
        "outputId": "8ac2af77-6b82-43d5-8f74-fb82628e3d37"
      },
      "execution_count": 15,
      "outputs": [
        {
          "output_type": "execute_result",
          "data": {
            "text/plain": [
              "array([[12, 13, 14],\n",
              "       [17, 18, 19],\n",
              "       [22, 23, 24]])"
            ]
          },
          "metadata": {},
          "execution_count": 15
        }
      ]
    },
    {
      "cell_type": "markdown",
      "source": [
        "extract array\n",
        "\n",
        "[ [14, 13, 12],\n",
        "\n",
        "[19, 18, 17],\n",
        "\n",
        "[24, 23, 22] ]"
      ],
      "metadata": {
        "id": "3PnVmkAaX2T5"
      }
    },
    {
      "cell_type": "code",
      "source": [
        "ar[2:,3:0:-1]"
      ],
      "metadata": {
        "colab": {
          "base_uri": "https://localhost:8080/"
        },
        "id": "c6WlEHNuXuNZ",
        "outputId": "28ef860c-a90e-4781-a0be-fe689c32a061"
      },
      "execution_count": 16,
      "outputs": [
        {
          "output_type": "execute_result",
          "data": {
            "text/plain": [
              "array([[14, 13, 12],\n",
              "       [19, 18, 17],\n",
              "       [24, 23, 22]])"
            ]
          },
          "metadata": {},
          "execution_count": 16
        }
      ]
    },
    {
      "cell_type": "markdown",
      "source": [
        "extract array\n",
        "\n",
        "[ [24, 23, 22],\n",
        "\n",
        "[19, 18, 17],\n",
        "\n",
        "[14, 13, 12],\n",
        "]\n"
      ],
      "metadata": {
        "id": "IueFOOIbYVhj"
      }
    },
    {
      "cell_type": "code",
      "source": [
        "ar[4:1:-1,3:0:-1]"
      ],
      "metadata": {
        "colab": {
          "base_uri": "https://localhost:8080/"
        },
        "id": "XoIm3ediYFdx",
        "outputId": "718a60c1-add0-4c79-85d7-8e7853f307ad"
      },
      "execution_count": 17,
      "outputs": [
        {
          "output_type": "execute_result",
          "data": {
            "text/plain": [
              "array([[24, 23, 22],\n",
              "       [19, 18, 17],\n",
              "       [14, 13, 12]])"
            ]
          },
          "metadata": {},
          "execution_count": 17
        }
      ]
    },
    {
      "cell_type": "markdown",
      "source": [
        "#Split Concatinate"
      ],
      "metadata": {
        "id": "Nc7lpcSdYvn6"
      }
    },
    {
      "cell_type": "code",
      "source": [
        "ar = np.arange(2,10)\n",
        "ar"
      ],
      "metadata": {
        "colab": {
          "base_uri": "https://localhost:8080/"
        },
        "id": "6iFwUj1yYhfs",
        "outputId": "75f552a3-52be-4494-de7f-a7d469818f53"
      },
      "execution_count": 18,
      "outputs": [
        {
          "output_type": "execute_result",
          "data": {
            "text/plain": [
              "array([2, 3, 4, 5, 6, 7, 8, 9])"
            ]
          },
          "metadata": {},
          "execution_count": 18
        }
      ]
    },
    {
      "cell_type": "markdown",
      "source": [
        "Split array to generate 3 arrays with content\n",
        "\n",
        "[2,3,4]\n",
        "\n",
        "[5, 6]\n",
        "\n",
        "[]\n",
        "\n",
        "[7,8,9]"
      ],
      "metadata": {
        "id": "BItVz7B2Y6CB"
      }
    },
    {
      "cell_type": "code",
      "source": [
        "np.split(ar, [3,5,5]) #Structure of split is that array with splitting address. "
      ],
      "metadata": {
        "id": "x2eVERwBY_Ib",
        "colab": {
          "base_uri": "https://localhost:8080/"
        },
        "outputId": "fec872cb-8a95-462b-b5ba-f81f6631d28e"
      },
      "execution_count": 21,
      "outputs": [
        {
          "output_type": "execute_result",
          "data": {
            "text/plain": [
              "[array([2, 3, 4]), array([5, 6]), array([], dtype=int64), array([7, 8, 9])]"
            ]
          },
          "metadata": {},
          "execution_count": 21
        }
      ]
    },
    {
      "cell_type": "markdown",
      "source": [
        "# Concatinate array to create new array with content"
      ],
      "metadata": {
        "id": "QjucnfiuPHta"
      }
    },
    {
      "cell_type": "code",
      "source": [
        "a = np.array([[1,2,3],[4,5,6]])\n",
        "b = np.array([[3,4,5],[7,8,9]])"
      ],
      "metadata": {
        "id": "9_iekWdzY_aW"
      },
      "execution_count": 24,
      "outputs": []
    },
    {
      "cell_type": "code",
      "source": [
        "np.vstack((a,b))"
      ],
      "metadata": {
        "id": "gl260H8uY_dq",
        "colab": {
          "base_uri": "https://localhost:8080/"
        },
        "outputId": "275f5327-b788-4cad-9189-987fea6f9479"
      },
      "execution_count": 25,
      "outputs": [
        {
          "output_type": "execute_result",
          "data": {
            "text/plain": [
              "array([[1, 2, 3],\n",
              "       [4, 5, 6],\n",
              "       [3, 4, 5],\n",
              "       [7, 8, 9]])"
            ]
          },
          "metadata": {},
          "execution_count": 25
        }
      ]
    },
    {
      "cell_type": "code",
      "source": [
        "np.hstack((a,b))"
      ],
      "metadata": {
        "colab": {
          "base_uri": "https://localhost:8080/"
        },
        "id": "t1PSXlxCPe5G",
        "outputId": "16438835-5302-4901-e7b2-3d9c2f5bb2ed"
      },
      "execution_count": 26,
      "outputs": [
        {
          "output_type": "execute_result",
          "data": {
            "text/plain": [
              "array([[1, 2, 3, 3, 4, 5],\n",
              "       [4, 5, 6, 7, 8, 9]])"
            ]
          },
          "metadata": {},
          "execution_count": 26
        }
      ]
    },
    {
      "cell_type": "markdown",
      "source": [
        "# Broadcasting and Indexing"
      ],
      "metadata": {
        "id": "zFr6sykyQhiv"
      }
    },
    {
      "cell_type": "code",
      "source": [
        "ar = np.round(np.random.rand(10)*10)\n",
        "ar"
      ],
      "metadata": {
        "colab": {
          "base_uri": "https://localhost:8080/"
        },
        "id": "XOnTazcdQWeP",
        "outputId": "31744b9a-12ff-4c1b-e956-bc25c5d87577"
      },
      "execution_count": 27,
      "outputs": [
        {
          "output_type": "execute_result",
          "data": {
            "text/plain": [
              "array([3., 5., 2., 3., 8., 2., 4., 8., 1., 9.])"
            ]
          },
          "metadata": {},
          "execution_count": 27
        }
      ]
    },
    {
      "cell_type": "markdown",
      "source": [
        "**Create new array containing all numbers which are smaller than 10 in ar**"
      ],
      "metadata": {
        "id": "DZuT6vGWQrII"
      }
    },
    {
      "cell_type": "code",
      "source": [
        "l=[]\n",
        "for i in ar:\n",
        "  if i <10:\n",
        "    l.append(i)\n",
        "\n",
        "np.array(l)    "
      ],
      "metadata": {
        "colab": {
          "base_uri": "https://localhost:8080/"
        },
        "id": "rVlScLmhQoPk",
        "outputId": "d8555e6c-6e85-4dc8-aba8-9d734f93e3c6"
      },
      "execution_count": 28,
      "outputs": [
        {
          "output_type": "execute_result",
          "data": {
            "text/plain": [
              "array([3., 5., 2., 3., 8., 2., 4., 8., 1., 9.])"
            ]
          },
          "metadata": {},
          "execution_count": 28
        }
      ]
    },
    {
      "cell_type": "markdown",
      "source": [
        "Count how many numbers are minimum in ar"
      ],
      "metadata": {
        "id": "Paj23lx2RJ_6"
      }
    },
    {
      "cell_type": "code",
      "source": [
        "min(ar)"
      ],
      "metadata": {
        "colab": {
          "base_uri": "https://localhost:8080/"
        },
        "id": "54LFyCLLQ8Af",
        "outputId": "e818b284-1d80-483b-9c97-bda44686d575"
      },
      "execution_count": 29,
      "outputs": [
        {
          "output_type": "execute_result",
          "data": {
            "text/plain": [
              "1.0"
            ]
          },
          "metadata": {},
          "execution_count": 29
        }
      ]
    },
    {
      "cell_type": "code",
      "source": [
        "c=0\n",
        "for i in ar:\n",
        "  if i == min(ar):\n",
        "    c=c+1\n",
        "print(c)    \n"
      ],
      "metadata": {
        "colab": {
          "base_uri": "https://localhost:8080/"
        },
        "id": "_q1rXFcUT6_s",
        "outputId": "f573c3ce-f7c1-43c8-bed6-25d6467f86c6"
      },
      "execution_count": 30,
      "outputs": [
        {
          "output_type": "stream",
          "name": "stdout",
          "text": [
            "1\n"
          ]
        }
      ]
    },
    {
      "cell_type": "markdown",
      "source": [
        "Create an array of length 20 with first 15 numbers equal to 2 and last 5 numbers = -5"
      ],
      "metadata": {
        "id": "W-gKgS7IUMBX"
      }
    },
    {
      "cell_type": "code",
      "source": [
        "a = np.array(np.ones(15,dtype = int)*2)"
      ],
      "metadata": {
        "id": "cdF54HPFUHR5"
      },
      "execution_count": 35,
      "outputs": []
    },
    {
      "cell_type": "code",
      "source": [
        "a"
      ],
      "metadata": {
        "colab": {
          "base_uri": "https://localhost:8080/"
        },
        "id": "17H2aPEmUgp6",
        "outputId": "7515e62a-cd5a-4b8d-bd79-f7d1a6440b98"
      },
      "execution_count": 36,
      "outputs": [
        {
          "output_type": "execute_result",
          "data": {
            "text/plain": [
              "array([2, 2, 2, 2, 2, 2, 2, 2, 2, 2, 2, 2, 2, 2, 2])"
            ]
          },
          "metadata": {},
          "execution_count": 36
        }
      ]
    },
    {
      "cell_type": "code",
      "source": [
        "b=np.array(np.ones(5,dtype=int)*5)\n",
        "b"
      ],
      "metadata": {
        "colab": {
          "base_uri": "https://localhost:8080/"
        },
        "id": "ZuRoi7TqUhLG",
        "outputId": "8b365a5a-e9c6-4e5a-d714-270f7ff16eb8"
      },
      "execution_count": 39,
      "outputs": [
        {
          "output_type": "execute_result",
          "data": {
            "text/plain": [
              "array([5, 5, 5, 5, 5])"
            ]
          },
          "metadata": {},
          "execution_count": 39
        }
      ]
    },
    {
      "cell_type": "code",
      "source": [
        "c = np.concatenate((a,b))"
      ],
      "metadata": {
        "id": "JuNeZmTDUuIM"
      },
      "execution_count": 40,
      "outputs": []
    },
    {
      "cell_type": "code",
      "source": [
        "c"
      ],
      "metadata": {
        "colab": {
          "base_uri": "https://localhost:8080/"
        },
        "id": "-bNZqRVJU1Kg",
        "outputId": "f6029980-5d51-4821-8326-518a94d12cdf"
      },
      "execution_count": 41,
      "outputs": [
        {
          "output_type": "execute_result",
          "data": {
            "text/plain": [
              "array([2, 2, 2, 2, 2, 2, 2, 2, 2, 2, 2, 2, 2, 2, 2, 5, 5, 5, 5, 5])"
            ]
          },
          "metadata": {},
          "execution_count": 41
        }
      ]
    },
    {
      "cell_type": "markdown",
      "source": [
        "#Sum min max of all elements of matrix"
      ],
      "metadata": {
        "id": "wBojXQdaVFDg"
      }
    },
    {
      "cell_type": "code",
      "source": [
        "mat = (np.random.rand(12)*100).reshape(3,4)"
      ],
      "metadata": {
        "id": "_7cYeaI3U1zG"
      },
      "execution_count": 48,
      "outputs": []
    },
    {
      "cell_type": "code",
      "source": [
        "mat"
      ],
      "metadata": {
        "colab": {
          "base_uri": "https://localhost:8080/"
        },
        "id": "BY4KML6gXLfj",
        "outputId": "6a839594-e96f-4964-f3c5-c3b57923ac68"
      },
      "execution_count": 49,
      "outputs": [
        {
          "output_type": "execute_result",
          "data": {
            "text/plain": [
              "array([[81.65893766, 53.12862152, 49.75958518, 38.91290234],\n",
              "       [20.5851103 , 43.79857888, 63.87998956, 53.60215819],\n",
              "       [84.14174741, 71.77254678, 95.80874581, 14.63436088]])"
            ]
          },
          "metadata": {},
          "execution_count": 49
        }
      ]
    },
    {
      "cell_type": "code",
      "source": [
        "print(mat.max())\n",
        "print(mat.min())\n",
        "print(mat.sum())"
      ],
      "metadata": {
        "colab": {
          "base_uri": "https://localhost:8080/"
        },
        "id": "KyUETYcHXicJ",
        "outputId": "9e2dc6a5-9e71-4d50-cb99-6f188c89ddd4"
      },
      "execution_count": 50,
      "outputs": [
        {
          "output_type": "stream",
          "name": "stdout",
          "text": [
            "95.80874580827292\n",
            "14.634360883977637\n",
            "671.683284507914\n"
          ]
        }
      ]
    },
    {
      "cell_type": "code",
      "source": [
        "mat.std()"
      ],
      "metadata": {
        "colab": {
          "base_uri": "https://localhost:8080/"
        },
        "id": "QHo_RxTZXvdi",
        "outputId": "d46b6888-0b45-4d02-e3ff-1a742d2dabb1"
      },
      "execution_count": 51,
      "outputs": [
        {
          "output_type": "execute_result",
          "data": {
            "text/plain": [
              "23.813591554912904"
            ]
          },
          "metadata": {},
          "execution_count": 51
        }
      ]
    },
    {
      "cell_type": "markdown",
      "source": [
        "#Sum of all columns of mat"
      ],
      "metadata": {
        "id": "MGvJlhd-X1n9"
      }
    },
    {
      "cell_type": "code",
      "source": [
        "mat.sum(axis=0)"
      ],
      "metadata": {
        "colab": {
          "base_uri": "https://localhost:8080/"
        },
        "id": "0KgVFZ_5XyJ3",
        "outputId": "600be1fa-7b69-45db-a479-90494178f6a4"
      },
      "execution_count": 53,
      "outputs": [
        {
          "output_type": "execute_result",
          "data": {
            "text/plain": [
              "array([186.38579537, 168.69974718, 209.44832055, 107.14942141])"
            ]
          },
          "metadata": {},
          "execution_count": 53
        }
      ]
    },
    {
      "cell_type": "code",
      "source": [
        ""
      ],
      "metadata": {
        "id": "0rb9XlD7X9Nu"
      },
      "execution_count": null,
      "outputs": []
    }
  ]
}