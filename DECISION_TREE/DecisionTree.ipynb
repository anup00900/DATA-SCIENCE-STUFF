{
  "nbformat": 4,
  "nbformat_minor": 0,
  "metadata": {
    "colab": {
      "name": "DecisionTree.ipynb",
      "provenance": []
    },
    "kernelspec": {
      "name": "python3",
      "display_name": "Python 3"
    },
    "language_info": {
      "name": "python"
    },
    "widgets": {
      "application/vnd.jupyter.widget-state+json": {
        "b7b15fe9620b436fbad58e22eb0fa1c8": {
          "model_module": "@jupyter-widgets/controls",
          "model_name": "VBoxModel",
          "model_module_version": "1.5.0",
          "state": {
            "_view_name": "VBoxView",
            "_dom_classes": [
              "widget-interact"
            ],
            "_model_name": "VBoxModel",
            "_view_module": "@jupyter-widgets/controls",
            "_model_module_version": "1.5.0",
            "_view_count": null,
            "_view_module_version": "1.5.0",
            "box_style": "",
            "layout": "IPY_MODEL_48ae9a2848e042b9b8d7aad3ad991035",
            "_model_module": "@jupyter-widgets/controls",
            "children": [
              "IPY_MODEL_2507cfe0f83f464d9b5197a11dbbfdf3",
              "IPY_MODEL_8a4a4fd517a44a74bf2e1f1fca49e6c8",
              "IPY_MODEL_8e5ad9a827414b9b8a0ff3e573bee653"
            ]
          }
        },
        "48ae9a2848e042b9b8d7aad3ad991035": {
          "model_module": "@jupyter-widgets/base",
          "model_name": "LayoutModel",
          "model_module_version": "1.2.0",
          "state": {
            "_view_name": "LayoutView",
            "grid_template_rows": null,
            "right": null,
            "justify_content": null,
            "_view_module": "@jupyter-widgets/base",
            "overflow": null,
            "_model_module_version": "1.2.0",
            "_view_count": null,
            "flex_flow": null,
            "width": null,
            "min_width": null,
            "border": null,
            "align_items": null,
            "bottom": null,
            "_model_module": "@jupyter-widgets/base",
            "top": null,
            "grid_column": null,
            "overflow_y": null,
            "overflow_x": null,
            "grid_auto_flow": null,
            "grid_area": null,
            "grid_template_columns": null,
            "flex": null,
            "_model_name": "LayoutModel",
            "justify_items": null,
            "grid_row": null,
            "max_height": null,
            "align_content": null,
            "visibility": null,
            "align_self": null,
            "height": null,
            "min_height": null,
            "padding": null,
            "grid_auto_rows": null,
            "grid_gap": null,
            "max_width": null,
            "order": null,
            "_view_module_version": "1.2.0",
            "grid_template_areas": null,
            "object_position": null,
            "object_fit": null,
            "grid_auto_columns": null,
            "margin": null,
            "display": null,
            "left": null
          }
        },
        "2507cfe0f83f464d9b5197a11dbbfdf3": {
          "model_module": "@jupyter-widgets/controls",
          "model_name": "IntSliderModel",
          "model_module_version": "1.5.0",
          "state": {
            "_view_name": "IntSliderView",
            "style": "IPY_MODEL_96245151b54f4742aff6df45fd90808a",
            "_dom_classes": [],
            "description": "max_depth",
            "step": 1,
            "_model_name": "IntSliderModel",
            "orientation": "horizontal",
            "max": 9,
            "_view_module": "@jupyter-widgets/controls",
            "_model_module_version": "1.5.0",
            "value": 3,
            "_view_count": null,
            "disabled": false,
            "_view_module_version": "1.5.0",
            "min": -3,
            "continuous_update": true,
            "readout_format": "d",
            "description_tooltip": null,
            "readout": true,
            "_model_module": "@jupyter-widgets/controls",
            "layout": "IPY_MODEL_36df317cc2414fca999c04ebfad07f24"
          }
        },
        "8a4a4fd517a44a74bf2e1f1fca49e6c8": {
          "model_module": "@jupyter-widgets/controls",
          "model_name": "IntSliderModel",
          "model_module_version": "1.5.0",
          "state": {
            "_view_name": "IntSliderView",
            "style": "IPY_MODEL_128154f1b53a45849c54c75c62d1771f",
            "_dom_classes": [],
            "description": "min_samples_split",
            "step": 1,
            "_model_name": "IntSliderModel",
            "orientation": "horizontal",
            "max": 9,
            "_view_module": "@jupyter-widgets/controls",
            "_model_module_version": "1.5.0",
            "value": 3,
            "_view_count": null,
            "disabled": false,
            "_view_module_version": "1.5.0",
            "min": -3,
            "continuous_update": true,
            "readout_format": "d",
            "description_tooltip": null,
            "readout": true,
            "_model_module": "@jupyter-widgets/controls",
            "layout": "IPY_MODEL_2d8030de9c364279ae23aab9edd4341d"
          }
        },
        "8e5ad9a827414b9b8a0ff3e573bee653": {
          "model_module": "@jupyter-widgets/output",
          "model_name": "OutputModel",
          "model_module_version": "1.0.0",
          "state": {
            "_view_name": "OutputView",
            "msg_id": "",
            "_dom_classes": [],
            "_model_name": "OutputModel",
            "outputs": [
              {
                "output_type": "stream",
                "name": "stdout",
                "text": [
                  "depth 3\n"
                ]
              },
              {
                "output_type": "display_data",
                "data": {
                  "image/png": "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\n",
                  "text/plain": "<Figure size 432x288 with 1 Axes>"
                },
                "metadata": {
                  "needs_background": "light"
                }
              },
              {
                "output_type": "display_data",
                "data": {
                  "image/png": "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\n",
                  "text/plain": "<Figure size 720x720 with 1 Axes>"
                },
                "metadata": {
                  "needs_background": "light"
                }
              }
            ],
            "_view_module": "@jupyter-widgets/output",
            "_model_module_version": "1.0.0",
            "_view_count": null,
            "_view_module_version": "1.0.0",
            "layout": "IPY_MODEL_1e71662d6ba24a19b5c45cac48c252c5",
            "_model_module": "@jupyter-widgets/output"
          }
        },
        "96245151b54f4742aff6df45fd90808a": {
          "model_module": "@jupyter-widgets/controls",
          "model_name": "SliderStyleModel",
          "model_module_version": "1.5.0",
          "state": {
            "_view_name": "StyleView",
            "handle_color": null,
            "_model_name": "SliderStyleModel",
            "description_width": "",
            "_view_module": "@jupyter-widgets/base",
            "_model_module_version": "1.5.0",
            "_view_count": null,
            "_view_module_version": "1.2.0",
            "_model_module": "@jupyter-widgets/controls"
          }
        },
        "36df317cc2414fca999c04ebfad07f24": {
          "model_module": "@jupyter-widgets/base",
          "model_name": "LayoutModel",
          "model_module_version": "1.2.0",
          "state": {
            "_view_name": "LayoutView",
            "grid_template_rows": null,
            "right": null,
            "justify_content": null,
            "_view_module": "@jupyter-widgets/base",
            "overflow": null,
            "_model_module_version": "1.2.0",
            "_view_count": null,
            "flex_flow": null,
            "width": null,
            "min_width": null,
            "border": null,
            "align_items": null,
            "bottom": null,
            "_model_module": "@jupyter-widgets/base",
            "top": null,
            "grid_column": null,
            "overflow_y": null,
            "overflow_x": null,
            "grid_auto_flow": null,
            "grid_area": null,
            "grid_template_columns": null,
            "flex": null,
            "_model_name": "LayoutModel",
            "justify_items": null,
            "grid_row": null,
            "max_height": null,
            "align_content": null,
            "visibility": null,
            "align_self": null,
            "height": null,
            "min_height": null,
            "padding": null,
            "grid_auto_rows": null,
            "grid_gap": null,
            "max_width": null,
            "order": null,
            "_view_module_version": "1.2.0",
            "grid_template_areas": null,
            "object_position": null,
            "object_fit": null,
            "grid_auto_columns": null,
            "margin": null,
            "display": null,
            "left": null
          }
        },
        "128154f1b53a45849c54c75c62d1771f": {
          "model_module": "@jupyter-widgets/controls",
          "model_name": "SliderStyleModel",
          "model_module_version": "1.5.0",
          "state": {
            "_view_name": "StyleView",
            "handle_color": null,
            "_model_name": "SliderStyleModel",
            "description_width": "",
            "_view_module": "@jupyter-widgets/base",
            "_model_module_version": "1.5.0",
            "_view_count": null,
            "_view_module_version": "1.2.0",
            "_model_module": "@jupyter-widgets/controls"
          }
        },
        "2d8030de9c364279ae23aab9edd4341d": {
          "model_module": "@jupyter-widgets/base",
          "model_name": "LayoutModel",
          "model_module_version": "1.2.0",
          "state": {
            "_view_name": "LayoutView",
            "grid_template_rows": null,
            "right": null,
            "justify_content": null,
            "_view_module": "@jupyter-widgets/base",
            "overflow": null,
            "_model_module_version": "1.2.0",
            "_view_count": null,
            "flex_flow": null,
            "width": null,
            "min_width": null,
            "border": null,
            "align_items": null,
            "bottom": null,
            "_model_module": "@jupyter-widgets/base",
            "top": null,
            "grid_column": null,
            "overflow_y": null,
            "overflow_x": null,
            "grid_auto_flow": null,
            "grid_area": null,
            "grid_template_columns": null,
            "flex": null,
            "_model_name": "LayoutModel",
            "justify_items": null,
            "grid_row": null,
            "max_height": null,
            "align_content": null,
            "visibility": null,
            "align_self": null,
            "height": null,
            "min_height": null,
            "padding": null,
            "grid_auto_rows": null,
            "grid_gap": null,
            "max_width": null,
            "order": null,
            "_view_module_version": "1.2.0",
            "grid_template_areas": null,
            "object_position": null,
            "object_fit": null,
            "grid_auto_columns": null,
            "margin": null,
            "display": null,
            "left": null
          }
        },
        "1e71662d6ba24a19b5c45cac48c252c5": {
          "model_module": "@jupyter-widgets/base",
          "model_name": "LayoutModel",
          "model_module_version": "1.2.0",
          "state": {
            "_view_name": "LayoutView",
            "grid_template_rows": null,
            "right": null,
            "justify_content": null,
            "_view_module": "@jupyter-widgets/base",
            "overflow": null,
            "_model_module_version": "1.2.0",
            "_view_count": null,
            "flex_flow": null,
            "width": null,
            "min_width": null,
            "border": null,
            "align_items": null,
            "bottom": null,
            "_model_module": "@jupyter-widgets/base",
            "top": null,
            "grid_column": null,
            "overflow_y": null,
            "overflow_x": null,
            "grid_auto_flow": null,
            "grid_area": null,
            "grid_template_columns": null,
            "flex": null,
            "_model_name": "LayoutModel",
            "justify_items": null,
            "grid_row": null,
            "max_height": null,
            "align_content": null,
            "visibility": null,
            "align_self": null,
            "height": null,
            "min_height": null,
            "padding": null,
            "grid_auto_rows": null,
            "grid_gap": null,
            "max_width": null,
            "order": null,
            "_view_module_version": "1.2.0",
            "grid_template_areas": null,
            "object_position": null,
            "object_fit": null,
            "grid_auto_columns": null,
            "margin": null,
            "display": null,
            "left": null
          }
        },
        "42c2f0d8e68c44a098ebf0eabf4e42b6": {
          "model_module": "@jupyter-widgets/controls",
          "model_name": "VBoxModel",
          "model_module_version": "1.5.0",
          "state": {
            "_view_name": "VBoxView",
            "_dom_classes": [
              "widget-interact"
            ],
            "_model_name": "VBoxModel",
            "_view_module": "@jupyter-widgets/controls",
            "_model_module_version": "1.5.0",
            "_view_count": null,
            "_view_module_version": "1.5.0",
            "box_style": "",
            "layout": "IPY_MODEL_8d23ec42eb754100a475f40f210c4981",
            "_model_module": "@jupyter-widgets/controls",
            "children": [
              "IPY_MODEL_15f91a986beb4cd4a68d165d78b8eb0d",
              "IPY_MODEL_41df2385aba04afdbe85288ae64d1943",
              "IPY_MODEL_d08d4f83c9f84db297c095d5c3021cd5"
            ]
          }
        },
        "8d23ec42eb754100a475f40f210c4981": {
          "model_module": "@jupyter-widgets/base",
          "model_name": "LayoutModel",
          "model_module_version": "1.2.0",
          "state": {
            "_view_name": "LayoutView",
            "grid_template_rows": null,
            "right": null,
            "justify_content": null,
            "_view_module": "@jupyter-widgets/base",
            "overflow": null,
            "_model_module_version": "1.2.0",
            "_view_count": null,
            "flex_flow": null,
            "width": null,
            "min_width": null,
            "border": null,
            "align_items": null,
            "bottom": null,
            "_model_module": "@jupyter-widgets/base",
            "top": null,
            "grid_column": null,
            "overflow_y": null,
            "overflow_x": null,
            "grid_auto_flow": null,
            "grid_area": null,
            "grid_template_columns": null,
            "flex": null,
            "_model_name": "LayoutModel",
            "justify_items": null,
            "grid_row": null,
            "max_height": null,
            "align_content": null,
            "visibility": null,
            "align_self": null,
            "height": null,
            "min_height": null,
            "padding": null,
            "grid_auto_rows": null,
            "grid_gap": null,
            "max_width": null,
            "order": null,
            "_view_module_version": "1.2.0",
            "grid_template_areas": null,
            "object_position": null,
            "object_fit": null,
            "grid_auto_columns": null,
            "margin": null,
            "display": null,
            "left": null
          }
        },
        "15f91a986beb4cd4a68d165d78b8eb0d": {
          "model_module": "@jupyter-widgets/controls",
          "model_name": "IntSliderModel",
          "model_module_version": "1.5.0",
          "state": {
            "_view_name": "IntSliderView",
            "style": "IPY_MODEL_271fe623c4d3470d8df7162900307eb9",
            "_dom_classes": [],
            "description": "max_depth",
            "step": 1,
            "_model_name": "IntSliderModel",
            "orientation": "horizontal",
            "max": 9,
            "_view_module": "@jupyter-widgets/controls",
            "_model_module_version": "1.5.0",
            "value": 3,
            "_view_count": null,
            "disabled": false,
            "_view_module_version": "1.5.0",
            "min": -3,
            "continuous_update": true,
            "readout_format": "d",
            "description_tooltip": null,
            "readout": true,
            "_model_module": "@jupyter-widgets/controls",
            "layout": "IPY_MODEL_2cdeb520272c4b0299f85b329d67816b"
          }
        },
        "41df2385aba04afdbe85288ae64d1943": {
          "model_module": "@jupyter-widgets/controls",
          "model_name": "FloatSliderModel",
          "model_module_version": "1.5.0",
          "state": {
            "_view_name": "FloatSliderView",
            "style": "IPY_MODEL_e059ae5de06f433e8cc52a736a81f64f",
            "_dom_classes": [],
            "description": "mf",
            "step": 0.1,
            "_model_name": "FloatSliderModel",
            "orientation": "horizontal",
            "max": 3,
            "_view_module": "@jupyter-widgets/controls",
            "_model_module_version": "1.5.0",
            "value": 1,
            "_view_count": null,
            "disabled": false,
            "_view_module_version": "1.5.0",
            "min": -1,
            "continuous_update": true,
            "readout_format": ".2f",
            "description_tooltip": null,
            "readout": true,
            "_model_module": "@jupyter-widgets/controls",
            "layout": "IPY_MODEL_ce7c1139b79e40e9a1f9daabec932a1f"
          }
        },
        "d08d4f83c9f84db297c095d5c3021cd5": {
          "model_module": "@jupyter-widgets/output",
          "model_name": "OutputModel",
          "model_module_version": "1.0.0",
          "state": {
            "_view_name": "OutputView",
            "msg_id": "",
            "_dom_classes": [],
            "_model_name": "OutputModel",
            "outputs": [
              {
                "output_type": "stream",
                "name": "stdout",
                "text": [
                  "depth 3\n"
                ]
              },
              {
                "output_type": "stream",
                "name": "stderr",
                "text": [
                  "/usr/local/lib/python3.7/dist-packages/mlxtend/plotting/decision_regions.py:244: MatplotlibDeprecationWarning: Passing unsupported keyword arguments to axis() will raise a TypeError in 3.3.\n",
                  "  ax.axis(xmin=xx.min(), xmax=xx.max(), y_min=yy.min(), y_max=yy.max())\n"
                ]
              },
              {
                "output_type": "display_data",
                "data": {
                  "image/png": "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\n",
                  "text/plain": "<Figure size 432x288 with 1 Axes>"
                },
                "metadata": {
                  "needs_background": "light"
                }
              },
              {
                "output_type": "display_data",
                "data": {
                  "image/png": "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\n",
                  "text/plain": "<Figure size 720x720 with 1 Axes>"
                },
                "metadata": {
                  "needs_background": "light"
                }
              }
            ],
            "_view_module": "@jupyter-widgets/output",
            "_model_module_version": "1.0.0",
            "_view_count": null,
            "_view_module_version": "1.0.0",
            "layout": "IPY_MODEL_f56ae119f5984e52873ed47eb1037eac",
            "_model_module": "@jupyter-widgets/output"
          }
        },
        "271fe623c4d3470d8df7162900307eb9": {
          "model_module": "@jupyter-widgets/controls",
          "model_name": "SliderStyleModel",
          "model_module_version": "1.5.0",
          "state": {
            "_view_name": "StyleView",
            "handle_color": null,
            "_model_name": "SliderStyleModel",
            "description_width": "",
            "_view_module": "@jupyter-widgets/base",
            "_model_module_version": "1.5.0",
            "_view_count": null,
            "_view_module_version": "1.2.0",
            "_model_module": "@jupyter-widgets/controls"
          }
        },
        "2cdeb520272c4b0299f85b329d67816b": {
          "model_module": "@jupyter-widgets/base",
          "model_name": "LayoutModel",
          "model_module_version": "1.2.0",
          "state": {
            "_view_name": "LayoutView",
            "grid_template_rows": null,
            "right": null,
            "justify_content": null,
            "_view_module": "@jupyter-widgets/base",
            "overflow": null,
            "_model_module_version": "1.2.0",
            "_view_count": null,
            "flex_flow": null,
            "width": null,
            "min_width": null,
            "border": null,
            "align_items": null,
            "bottom": null,
            "_model_module": "@jupyter-widgets/base",
            "top": null,
            "grid_column": null,
            "overflow_y": null,
            "overflow_x": null,
            "grid_auto_flow": null,
            "grid_area": null,
            "grid_template_columns": null,
            "flex": null,
            "_model_name": "LayoutModel",
            "justify_items": null,
            "grid_row": null,
            "max_height": null,
            "align_content": null,
            "visibility": null,
            "align_self": null,
            "height": null,
            "min_height": null,
            "padding": null,
            "grid_auto_rows": null,
            "grid_gap": null,
            "max_width": null,
            "order": null,
            "_view_module_version": "1.2.0",
            "grid_template_areas": null,
            "object_position": null,
            "object_fit": null,
            "grid_auto_columns": null,
            "margin": null,
            "display": null,
            "left": null
          }
        },
        "e059ae5de06f433e8cc52a736a81f64f": {
          "model_module": "@jupyter-widgets/controls",
          "model_name": "SliderStyleModel",
          "model_module_version": "1.5.0",
          "state": {
            "_view_name": "StyleView",
            "handle_color": null,
            "_model_name": "SliderStyleModel",
            "description_width": "",
            "_view_module": "@jupyter-widgets/base",
            "_model_module_version": "1.5.0",
            "_view_count": null,
            "_view_module_version": "1.2.0",
            "_model_module": "@jupyter-widgets/controls"
          }
        },
        "ce7c1139b79e40e9a1f9daabec932a1f": {
          "model_module": "@jupyter-widgets/base",
          "model_name": "LayoutModel",
          "model_module_version": "1.2.0",
          "state": {
            "_view_name": "LayoutView",
            "grid_template_rows": null,
            "right": null,
            "justify_content": null,
            "_view_module": "@jupyter-widgets/base",
            "overflow": null,
            "_model_module_version": "1.2.0",
            "_view_count": null,
            "flex_flow": null,
            "width": null,
            "min_width": null,
            "border": null,
            "align_items": null,
            "bottom": null,
            "_model_module": "@jupyter-widgets/base",
            "top": null,
            "grid_column": null,
            "overflow_y": null,
            "overflow_x": null,
            "grid_auto_flow": null,
            "grid_area": null,
            "grid_template_columns": null,
            "flex": null,
            "_model_name": "LayoutModel",
            "justify_items": null,
            "grid_row": null,
            "max_height": null,
            "align_content": null,
            "visibility": null,
            "align_self": null,
            "height": null,
            "min_height": null,
            "padding": null,
            "grid_auto_rows": null,
            "grid_gap": null,
            "max_width": null,
            "order": null,
            "_view_module_version": "1.2.0",
            "grid_template_areas": null,
            "object_position": null,
            "object_fit": null,
            "grid_auto_columns": null,
            "margin": null,
            "display": null,
            "left": null
          }
        },
        "f56ae119f5984e52873ed47eb1037eac": {
          "model_module": "@jupyter-widgets/base",
          "model_name": "LayoutModel",
          "model_module_version": "1.2.0",
          "state": {
            "_view_name": "LayoutView",
            "grid_template_rows": null,
            "right": null,
            "justify_content": null,
            "_view_module": "@jupyter-widgets/base",
            "overflow": null,
            "_model_module_version": "1.2.0",
            "_view_count": null,
            "flex_flow": null,
            "width": null,
            "min_width": null,
            "border": null,
            "align_items": null,
            "bottom": null,
            "_model_module": "@jupyter-widgets/base",
            "top": null,
            "grid_column": null,
            "overflow_y": null,
            "overflow_x": null,
            "grid_auto_flow": null,
            "grid_area": null,
            "grid_template_columns": null,
            "flex": null,
            "_model_name": "LayoutModel",
            "justify_items": null,
            "grid_row": null,
            "max_height": null,
            "align_content": null,
            "visibility": null,
            "align_self": null,
            "height": null,
            "min_height": null,
            "padding": null,
            "grid_auto_rows": null,
            "grid_gap": null,
            "max_width": null,
            "order": null,
            "_view_module_version": "1.2.0",
            "grid_template_areas": null,
            "object_position": null,
            "object_fit": null,
            "grid_auto_columns": null,
            "margin": null,
            "display": null,
            "left": null
          }
        },
        "c726822e27fc4410be061c03665496a3": {
          "model_module": "@jupyter-widgets/controls",
          "model_name": "VBoxModel",
          "model_module_version": "1.5.0",
          "state": {
            "_view_name": "VBoxView",
            "_dom_classes": [
              "widget-interact"
            ],
            "_model_name": "VBoxModel",
            "_view_module": "@jupyter-widgets/controls",
            "_model_module_version": "1.5.0",
            "_view_count": null,
            "_view_module_version": "1.5.0",
            "box_style": "",
            "layout": "IPY_MODEL_5fba465641ea4826af26ab52f0e755fb",
            "_model_module": "@jupyter-widgets/controls",
            "children": [
              "IPY_MODEL_ee1dd253179843bcb2881312e9e6be85",
              "IPY_MODEL_d5c42b3d764146459d78080e3ba0e7ee"
            ]
          }
        },
        "5fba465641ea4826af26ab52f0e755fb": {
          "model_module": "@jupyter-widgets/base",
          "model_name": "LayoutModel",
          "model_module_version": "1.2.0",
          "state": {
            "_view_name": "LayoutView",
            "grid_template_rows": null,
            "right": null,
            "justify_content": null,
            "_view_module": "@jupyter-widgets/base",
            "overflow": null,
            "_model_module_version": "1.2.0",
            "_view_count": null,
            "flex_flow": null,
            "width": null,
            "min_width": null,
            "border": null,
            "align_items": null,
            "bottom": null,
            "_model_module": "@jupyter-widgets/base",
            "top": null,
            "grid_column": null,
            "overflow_y": null,
            "overflow_x": null,
            "grid_auto_flow": null,
            "grid_area": null,
            "grid_template_columns": null,
            "flex": null,
            "_model_name": "LayoutModel",
            "justify_items": null,
            "grid_row": null,
            "max_height": null,
            "align_content": null,
            "visibility": null,
            "align_self": null,
            "height": null,
            "min_height": null,
            "padding": null,
            "grid_auto_rows": null,
            "grid_gap": null,
            "max_width": null,
            "order": null,
            "_view_module_version": "1.2.0",
            "grid_template_areas": null,
            "object_position": null,
            "object_fit": null,
            "grid_auto_columns": null,
            "margin": null,
            "display": null,
            "left": null
          }
        },
        "ee1dd253179843bcb2881312e9e6be85": {
          "model_module": "@jupyter-widgets/controls",
          "model_name": "IntSliderModel",
          "model_module_version": "1.5.0",
          "state": {
            "_view_name": "IntSliderView",
            "style": "IPY_MODEL_f7ebc9e65cca483983cdc7825264d455",
            "_dom_classes": [],
            "description": "alpha",
            "step": 1,
            "_model_name": "IntSliderModel",
            "orientation": "horizontal",
            "max": 30,
            "_view_module": "@jupyter-widgets/controls",
            "_model_module_version": "1.5.0",
            "value": 2,
            "_view_count": null,
            "disabled": false,
            "_view_module_version": "1.5.0",
            "min": -10,
            "continuous_update": true,
            "readout_format": "d",
            "description_tooltip": null,
            "readout": true,
            "_model_module": "@jupyter-widgets/controls",
            "layout": "IPY_MODEL_bf01eaba8a4e4c82b9fd8d0942deedcd"
          }
        },
        "d5c42b3d764146459d78080e3ba0e7ee": {
          "model_module": "@jupyter-widgets/output",
          "model_name": "OutputModel",
          "model_module_version": "1.0.0",
          "state": {
            "_view_name": "OutputView",
            "msg_id": "",
            "_dom_classes": [],
            "_model_name": "OutputModel",
            "outputs": [
              {
                "output_type": "stream",
                "name": "stdout",
                "text": [
                  "depth 0\n"
                ]
              },
              {
                "output_type": "stream",
                "name": "stderr",
                "text": [
                  "/usr/local/lib/python3.7/dist-packages/mlxtend/plotting/decision_regions.py:242: UserWarning: No contour levels were found within the data range.\n",
                  "  antialiased=True)\n",
                  "/usr/local/lib/python3.7/dist-packages/mlxtend/plotting/decision_regions.py:244: MatplotlibDeprecationWarning: Passing unsupported keyword arguments to axis() will raise a TypeError in 3.3.\n",
                  "  ax.axis(xmin=xx.min(), xmax=xx.max(), y_min=yy.min(), y_max=yy.max())\n"
                ]
              },
              {
                "output_type": "display_data",
                "data": {
                  "image/png": "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\n",
                  "text/plain": "<Figure size 432x288 with 1 Axes>"
                },
                "metadata": {
                  "needs_background": "light"
                }
              },
              {
                "output_type": "display_data",
                "data": {
                  "image/png": "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\n",
                  "text/plain": "<Figure size 720x720 with 1 Axes>"
                },
                "metadata": {
                  "needs_background": "light"
                }
              }
            ],
            "_view_module": "@jupyter-widgets/output",
            "_model_module_version": "1.0.0",
            "_view_count": null,
            "_view_module_version": "1.0.0",
            "layout": "IPY_MODEL_85f33dc3b0644b6fb1b5bf44b6b77998",
            "_model_module": "@jupyter-widgets/output"
          }
        },
        "f7ebc9e65cca483983cdc7825264d455": {
          "model_module": "@jupyter-widgets/controls",
          "model_name": "SliderStyleModel",
          "model_module_version": "1.5.0",
          "state": {
            "_view_name": "StyleView",
            "handle_color": null,
            "_model_name": "SliderStyleModel",
            "description_width": "",
            "_view_module": "@jupyter-widgets/base",
            "_model_module_version": "1.5.0",
            "_view_count": null,
            "_view_module_version": "1.2.0",
            "_model_module": "@jupyter-widgets/controls"
          }
        },
        "bf01eaba8a4e4c82b9fd8d0942deedcd": {
          "model_module": "@jupyter-widgets/base",
          "model_name": "LayoutModel",
          "model_module_version": "1.2.0",
          "state": {
            "_view_name": "LayoutView",
            "grid_template_rows": null,
            "right": null,
            "justify_content": null,
            "_view_module": "@jupyter-widgets/base",
            "overflow": null,
            "_model_module_version": "1.2.0",
            "_view_count": null,
            "flex_flow": null,
            "width": null,
            "min_width": null,
            "border": null,
            "align_items": null,
            "bottom": null,
            "_model_module": "@jupyter-widgets/base",
            "top": null,
            "grid_column": null,
            "overflow_y": null,
            "overflow_x": null,
            "grid_auto_flow": null,
            "grid_area": null,
            "grid_template_columns": null,
            "flex": null,
            "_model_name": "LayoutModel",
            "justify_items": null,
            "grid_row": null,
            "max_height": null,
            "align_content": null,
            "visibility": null,
            "align_self": null,
            "height": null,
            "min_height": null,
            "padding": null,
            "grid_auto_rows": null,
            "grid_gap": null,
            "max_width": null,
            "order": null,
            "_view_module_version": "1.2.0",
            "grid_template_areas": null,
            "object_position": null,
            "object_fit": null,
            "grid_auto_columns": null,
            "margin": null,
            "display": null,
            "left": null
          }
        },
        "85f33dc3b0644b6fb1b5bf44b6b77998": {
          "model_module": "@jupyter-widgets/base",
          "model_name": "LayoutModel",
          "model_module_version": "1.2.0",
          "state": {
            "_view_name": "LayoutView",
            "grid_template_rows": null,
            "right": null,
            "justify_content": null,
            "_view_module": "@jupyter-widgets/base",
            "overflow": null,
            "_model_module_version": "1.2.0",
            "_view_count": null,
            "flex_flow": null,
            "width": null,
            "min_width": null,
            "border": null,
            "align_items": null,
            "bottom": null,
            "_model_module": "@jupyter-widgets/base",
            "top": null,
            "grid_column": null,
            "overflow_y": null,
            "overflow_x": null,
            "grid_auto_flow": null,
            "grid_area": null,
            "grid_template_columns": null,
            "flex": null,
            "_model_name": "LayoutModel",
            "justify_items": null,
            "grid_row": null,
            "max_height": null,
            "align_content": null,
            "visibility": null,
            "align_self": null,
            "height": null,
            "min_height": null,
            "padding": null,
            "grid_auto_rows": null,
            "grid_gap": null,
            "max_width": null,
            "order": null,
            "_view_module_version": "1.2.0",
            "grid_template_areas": null,
            "object_position": null,
            "object_fit": null,
            "grid_auto_columns": null,
            "margin": null,
            "display": null,
            "left": null
          }
        }
      }
    }
  },
  "cells": [
    {
      "cell_type": "markdown",
      "source": [
        "#ENTROPY"
      ],
      "metadata": {
        "id": "tBiLheYYQIqn"
      }
    },
    {
      "cell_type": "code",
      "execution_count": 1,
      "metadata": {
        "colab": {
          "base_uri": "https://localhost:8080/"
        },
        "id": "_Q8g2SPLPH42",
        "outputId": "42dbd156-356c-4912-f614-90f51a56d98f"
      },
      "outputs": [
        {
          "output_type": "stream",
          "name": "stderr",
          "text": [
            "/usr/local/lib/python3.7/dist-packages/ipykernel_launcher.py:5: RuntimeWarning: divide by zero encountered in log2\n",
            "  \"\"\"\n",
            "/usr/local/lib/python3.7/dist-packages/ipykernel_launcher.py:5: RuntimeWarning: invalid value encountered in multiply\n",
            "  \"\"\"\n"
          ]
        }
      ],
      "source": [
        "import numpy as np\n",
        "x1 = np.linspace(0.01,1,10)\n",
        "x2 = 1-x1\n",
        "\n",
        "ye = -x1*np.log2(x1) - x2*np.log2(x2)"
      ]
    },
    {
      "cell_type": "code",
      "source": [
        "ye"
      ],
      "metadata": {
        "colab": {
          "base_uri": "https://localhost:8080/"
        },
        "id": "vyi8fAVQQfdb",
        "outputId": "700575a2-380e-4515-d78c-b6595e12f093"
      },
      "execution_count": 2,
      "outputs": [
        {
          "output_type": "execute_result",
          "data": {
            "text/plain": [
              "array([0.08079314, 0.52936087, 0.7780113 , 0.9248187 , 0.99277445,\n",
              "       0.98958752, 0.91492637, 0.7601675 , 0.49991596,        nan])"
            ]
          },
          "metadata": {},
          "execution_count": 2
        }
      ]
    },
    {
      "cell_type": "code",
      "source": [
        "import matplotlib.pyplot as plt\n",
        "plt.plot(ye)"
      ],
      "metadata": {
        "colab": {
          "base_uri": "https://localhost:8080/",
          "height": 283
        },
        "id": "D8n8vaIHQgst",
        "outputId": "77edfa55-7b3a-4883-eec7-7b581cafa3e9"
      },
      "execution_count": 3,
      "outputs": [
        {
          "output_type": "execute_result",
          "data": {
            "text/plain": [
              "[<matplotlib.lines.Line2D at 0x7f840f9944d0>]"
            ]
          },
          "metadata": {},
          "execution_count": 3
        },
        {
          "output_type": "display_data",
          "data": {
            "image/png": "[encoded data removed]",
            "text/plain": [
              "<Figure size 432x288 with 1 Axes>"
            ]
          },
          "metadata": {
            "needs_background": "light"
          }
        }
      ]
    },
    {
      "cell_type": "code",
      "source": [
        "yg = 1-(x1*x1)-(x2*x2)"
      ],
      "metadata": {
        "id": "AvE7wB6AQs2q"
      },
      "execution_count": 4,
      "outputs": []
    },
    {
      "cell_type": "code",
      "source": [
        "plt.plot(yg)"
      ],
      "metadata": {
        "colab": {
          "base_uri": "https://localhost:8080/",
          "height": 283
        },
        "id": "w92f-CQJYe2h",
        "outputId": "5f66e399-e0fe-4315-e2f5-26b71ca116b9"
      },
      "execution_count": 5,
      "outputs": [
        {
          "output_type": "execute_result",
          "data": {
            "text/plain": [
              "[<matplotlib.lines.Line2D at 0x7f840f478a10>]"
            ]
          },
          "metadata": {},
          "execution_count": 5
        },
        {
          "output_type": "display_data",
          "data": {
            "image/png": "[encoded data removed]",
            "text/plain": [
              "<Figure size 432x288 with 1 Axes>"
            ]
          },
          "metadata": {
            "needs_background": "light"
          }
        }
      ]
    },
    {
      "cell_type": "code",
      "source": [
        "plt.plot(yg,label='gini')\n",
        "plt.plot(ye,label='entropy')\n",
        "plt.legend()"
      ],
      "metadata": {
        "colab": {
          "base_uri": "https://localhost:8080/",
          "height": 283
        },
        "id": "BE9OrLgKYhSo",
        "outputId": "a038e0ee-7a72-447e-85f1-8d41d58a22e5"
      },
      "execution_count": 6,
      "outputs": [
        {
          "output_type": "execute_result",
          "data": {
            "text/plain": [
              "<matplotlib.legend.Legend at 0x7f840f3e5550>"
            ]
          },
          "metadata": {},
          "execution_count": 6
        },
        {
          "output_type": "display_data",
          "data": {
            "image/png": "[encoded data removed]",
            "text/plain": [
              "<Figure size 432x288 with 1 Axes>"
            ]
          },
          "metadata": {
            "needs_background": "light"
          }
        }
      ]
    },
    {
      "cell_type": "code",
      "source": [
        " import pandas as pd\n",
        " \n",
        " df=pd.read_csv(\"/content/play_tennis (1).csv\")"
      ],
      "metadata": {
        "id": "CuxXefXRYwts"
      },
      "execution_count": 8,
      "outputs": []
    },
    {
      "cell_type": "code",
      "source": [
        "df"
      ],
      "metadata": {
        "colab": {
          "base_uri": "https://localhost:8080/",
          "height": 488
        },
        "id": "jUQtXb49ejpa",
        "outputId": "ca5851cb-a48f-4dea-ef61-a73a8b6195da"
      },
      "execution_count": 9,
      "outputs": [
        {
          "output_type": "execute_result",
          "data": {
            "text/html": [
              "\n",
              "  <div id=\"df-356c8651-8627-4739-88cc-7e0ef17b480c\">\n",
              "    <div class=\"colab-df-container\">\n",
              "      <div>\n",
              "<style scoped>\n",
              "    .dataframe tbody tr th:only-of-type {\n",
              "        vertical-align: middle;\n",
              "    }\n",
              "\n",
              "    .dataframe tbody tr th {\n",
              "        vertical-align: top;\n",
              "    }\n",
              "\n",
              "    .dataframe thead th {\n",
              "        text-align: right;\n",
              "    }\n",
              "</style>\n",
              "<table border=\"1\" class=\"dataframe\">\n",
              "  <thead>\n",
              "    <tr style=\"text-align: right;\">\n",
              "      <th></th>\n",
              "      <th>day</th>\n",
              "      <th>outlook</th>\n",
              "      <th>temp</th>\n",
              "      <th>humidity</th>\n",
              "      <th>wind</th>\n",
              "      <th>play</th>\n",
              "    </tr>\n",
              "  </thead>\n",
              "  <tbody>\n",
              "    <tr>\n",
              "      <th>0</th>\n",
              "      <td>D1</td>\n",
              "      <td>Sunny</td>\n",
              "      <td>Hot</td>\n",
              "      <td>High</td>\n",
              "      <td>Weak</td>\n",
              "      <td>No</td>\n",
              "    </tr>\n",
              "    <tr>\n",
              "      <th>1</th>\n",
              "      <td>D2</td>\n",
              "      <td>Sunny</td>\n",
              "      <td>Hot</td>\n",
              "      <td>High</td>\n",
              "      <td>Strong</td>\n",
              "      <td>No</td>\n",
              "    </tr>\n",
              "    <tr>\n",
              "      <th>2</th>\n",
              "      <td>D3</td>\n",
              "      <td>Overcast</td>\n",
              "      <td>Hot</td>\n",
              "      <td>High</td>\n",
              "      <td>Weak</td>\n",
              "      <td>Yes</td>\n",
              "    </tr>\n",
              "    <tr>\n",
              "      <th>3</th>\n",
              "      <td>D4</td>\n",
              "      <td>Rain</td>\n",
              "      <td>Mild</td>\n",
              "      <td>High</td>\n",
              "      <td>Weak</td>\n",
              "      <td>Yes</td>\n",
              "    </tr>\n",
              "    <tr>\n",
              "      <th>4</th>\n",
              "      <td>D5</td>\n",
              "      <td>Rain</td>\n",
              "      <td>Cool</td>\n",
              "      <td>Normal</td>\n",
              "      <td>Weak</td>\n",
              "      <td>Yes</td>\n",
              "    </tr>\n",
              "    <tr>\n",
              "      <th>5</th>\n",
              "      <td>D6</td>\n",
              "      <td>Rain</td>\n",
              "      <td>Cool</td>\n",
              "      <td>Normal</td>\n",
              "      <td>Strong</td>\n",
              "      <td>No</td>\n",
              "    </tr>\n",
              "    <tr>\n",
              "      <th>6</th>\n",
              "      <td>D7</td>\n",
              "      <td>Overcast</td>\n",
              "      <td>Cool</td>\n",
              "      <td>Normal</td>\n",
              "      <td>Strong</td>\n",
              "      <td>Yes</td>\n",
              "    </tr>\n",
              "    <tr>\n",
              "      <th>7</th>\n",
              "      <td>D8</td>\n",
              "      <td>Sunny</td>\n",
              "      <td>Mild</td>\n",
              "      <td>High</td>\n",
              "      <td>Weak</td>\n",
              "      <td>No</td>\n",
              "    </tr>\n",
              "    <tr>\n",
              "      <th>8</th>\n",
              "      <td>D9</td>\n",
              "      <td>Sunny</td>\n",
              "      <td>Cool</td>\n",
              "      <td>Normal</td>\n",
              "      <td>Weak</td>\n",
              "      <td>Yes</td>\n",
              "    </tr>\n",
              "    <tr>\n",
              "      <th>9</th>\n",
              "      <td>D10</td>\n",
              "      <td>Rain</td>\n",
              "      <td>Mild</td>\n",
              "      <td>Normal</td>\n",
              "      <td>Weak</td>\n",
              "      <td>Yes</td>\n",
              "    </tr>\n",
              "    <tr>\n",
              "      <th>10</th>\n",
              "      <td>D11</td>\n",
              "      <td>Sunny</td>\n",
              "      <td>Mild</td>\n",
              "      <td>Normal</td>\n",
              "      <td>Strong</td>\n",
              "      <td>Yes</td>\n",
              "    </tr>\n",
              "    <tr>\n",
              "      <th>11</th>\n",
              "      <td>D12</td>\n",
              "      <td>Overcast</td>\n",
              "      <td>Mild</td>\n",
              "      <td>High</td>\n",
              "      <td>Strong</td>\n",
              "      <td>Yes</td>\n",
              "    </tr>\n",
              "    <tr>\n",
              "      <th>12</th>\n",
              "      <td>D13</td>\n",
              "      <td>Overcast</td>\n",
              "      <td>Hot</td>\n",
              "      <td>Normal</td>\n",
              "      <td>Weak</td>\n",
              "      <td>Yes</td>\n",
              "    </tr>\n",
              "    <tr>\n",
              "      <th>13</th>\n",
              "      <td>D14</td>\n",
              "      <td>Rain</td>\n",
              "      <td>Mild</td>\n",
              "      <td>High</td>\n",
              "      <td>Strong</td>\n",
              "      <td>No</td>\n",
              "    </tr>\n",
              "  </tbody>\n",
              "</table>\n",
              "</div>\n",
              "      <button class=\"colab-df-convert\" onclick=\"convertToInteractive('df-356c8651-8627-4739-88cc-7e0ef17b480c')\"\n",
              "              title=\"Convert this dataframe to an interactive table.\"\n",
              "              style=\"display:none;\">\n",
              "        \n",
              "  <svg xmlns=\"http://www.w3.org/2000/svg\" height=\"24px\"viewBox=\"0 0 24 24\"\n",
              "       width=\"24px\">\n",
              "    <path d=\"M0 0h24v24H0V0z\" fill=\"none\"/>\n",
              "    <path d=\"M18.56 5.44l.94 2.06.94-2.06 2.06-.94-2.06-.94-.94-2.06-.94 2.06-2.06.94zm-11 1L8.5 8.5l.94-2.06 2.06-.94-2.06-.94L8.5 2.5l-.94 2.06-2.06.94zm10 10l.94 2.06.94-2.06 2.06-.94-2.06-.94-.94-2.06-.94 2.06-2.06.94z\"/><path d=\"M17.41 7.96l-1.37-1.37c-.4-.4-.92-.59-1.43-.59-.52 0-1.04.2-1.43.59L10.3 9.45l-7.72 7.72c-.78.78-.78 2.05 0 2.83L4 21.41c.39.39.9.59 1.41.59.51 0 1.02-.2 1.41-.59l7.78-7.78 2.81-2.81c.8-.78.8-2.07 0-2.86zM5.41 20L4 18.59l7.72-7.72 1.47 1.35L5.41 20z\"/>\n",
              "  </svg>\n",
              "      </button>\n",
              "      \n",
              "  <style>\n",
              "    .colab-df-container {\n",
              "      display:flex;\n",
              "      flex-wrap:wrap;\n",
              "      gap: 12px;\n",
              "    }\n",
              "\n",
              "    .colab-df-convert {\n",
              "      background-color: #E8F0FE;\n",
              "      border: none;\n",
              "      border-radius: 50%;\n",
              "      cursor: pointer;\n",
              "      display: none;\n",
              "      fill: #1967D2;\n",
              "      height: 32px;\n",
              "      padding: 0 0 0 0;\n",
              "      width: 32px;\n",
              "    }\n",
              "\n",
              "    .colab-df-convert:hover {\n",
              "      background-color: #E2EBFA;\n",
              "      box-shadow: 0px 1px 2px rgba(60, 64, 67, 0.3), 0px 1px 3px 1px rgba(60, 64, 67, 0.15);\n",
              "      fill: #174EA6;\n",
              "    }\n",
              "\n",
              "    [theme=dark] .colab-df-convert {\n",
              "      background-color: #3B4455;\n",
              "      fill: #D2E3FC;\n",
              "    }\n",
              "\n",
              "    [theme=dark] .colab-df-convert:hover {\n",
              "      background-color: #434B5C;\n",
              "      box-shadow: 0px 1px 3px 1px rgba(0, 0, 0, 0.15);\n",
              "      filter: drop-shadow(0px 1px 2px rgba(0, 0, 0, 0.3));\n",
              "      fill: #FFFFFF;\n",
              "    }\n",
              "  </style>\n",
              "\n",
              "      <script>\n",
              "        const buttonEl =\n",
              "          document.querySelector('#df-356c8651-8627-4739-88cc-7e0ef17b480c button.colab-df-convert');\n",
              "        buttonEl.style.display =\n",
              "          google.colab.kernel.accessAllowed ? 'block' : 'none';\n",
              "\n",
              "        async function convertToInteractive(key) {\n",
              "          const element = document.querySelector('#df-356c8651-8627-4739-88cc-7e0ef17b480c');\n",
              "          const dataTable =\n",
              "            await google.colab.kernel.invokeFunction('convertToInteractive',\n",
              "                                                     [key], {});\n",
              "          if (!dataTable) return;\n",
              "\n",
              "          const docLinkHtml = 'Like what you see? Visit the ' +\n",
              "            '<a target=\"_blank\" href=https://colab.research.google.com/notebooks/data_table.ipynb>data table notebook</a>'\n",
              "            + ' to learn more about interactive tables.';\n",
              "          element.innerHTML = '';\n",
              "          dataTable['output_type'] = 'display_data';\n",
              "          await google.colab.output.renderOutput(dataTable, element);\n",
              "          const docLink = document.createElement('div');\n",
              "          docLink.innerHTML = docLinkHtml;\n",
              "          element.appendChild(docLink);\n",
              "        }\n",
              "      </script>\n",
              "    </div>\n",
              "  </div>\n",
              "  "
            ],
            "text/plain": [
              "    day   outlook  temp humidity    wind play\n",
              "0    D1     Sunny   Hot     High    Weak   No\n",
              "1    D2     Sunny   Hot     High  Strong   No\n",
              "2    D3  Overcast   Hot     High    Weak  Yes\n",
              "3    D4      Rain  Mild     High    Weak  Yes\n",
              "4    D5      Rain  Cool   Normal    Weak  Yes\n",
              "5    D6      Rain  Cool   Normal  Strong   No\n",
              "6    D7  Overcast  Cool   Normal  Strong  Yes\n",
              "7    D8     Sunny  Mild     High    Weak   No\n",
              "8    D9     Sunny  Cool   Normal    Weak  Yes\n",
              "9   D10      Rain  Mild   Normal    Weak  Yes\n",
              "10  D11     Sunny  Mild   Normal  Strong  Yes\n",
              "11  D12  Overcast  Mild     High  Strong  Yes\n",
              "12  D13  Overcast   Hot   Normal    Weak  Yes\n",
              "13  D14      Rain  Mild     High  Strong   No"
            ]
          },
          "metadata": {},
          "execution_count": 9
        }
      ]
    },
    {
      "cell_type": "code",
      "source": [
        "df=df.drop('day',axis=1)"
      ],
      "metadata": {
        "id": "MgdVYXgOfeer"
      },
      "execution_count": 10,
      "outputs": []
    },
    {
      "cell_type": "code",
      "source": [
        "X=df.drop('play',axis=1)\n",
        "Y=df['play']"
      ],
      "metadata": {
        "id": "Plba2ZvUfqg3"
      },
      "execution_count": 11,
      "outputs": []
    },
    {
      "cell_type": "code",
      "source": [
        "col='outlook'\n",
        "row = 'Sunny'\n",
        "\n",
        "i=X[col] == row\n",
        "X[i]"
      ],
      "metadata": {
        "colab": {
          "base_uri": "https://localhost:8080/",
          "height": 206
        },
        "id": "_749ofWnmhjK",
        "outputId": "ca71ac3e-ab69-4356-9a24-86662cd28cde"
      },
      "execution_count": 12,
      "outputs": [
        {
          "output_type": "execute_result",
          "data": {
            "text/html": [
              "\n",
              "  <div id=\"df-e6ef8d9f-54c0-4f52-aa9c-359fbe376ccb\">\n",
              "    <div class=\"colab-df-container\">\n",
              "      <div>\n",
              "<style scoped>\n",
              "    .dataframe tbody tr th:only-of-type {\n",
              "        vertical-align: middle;\n",
              "    }\n",
              "\n",
              "    .dataframe tbody tr th {\n",
              "        vertical-align: top;\n",
              "    }\n",
              "\n",
              "    .dataframe thead th {\n",
              "        text-align: right;\n",
              "    }\n",
              "</style>\n",
              "<table border=\"1\" class=\"dataframe\">\n",
              "  <thead>\n",
              "    <tr style=\"text-align: right;\">\n",
              "      <th></th>\n",
              "      <th>outlook</th>\n",
              "      <th>temp</th>\n",
              "      <th>humidity</th>\n",
              "      <th>wind</th>\n",
              "    </tr>\n",
              "  </thead>\n",
              "  <tbody>\n",
              "    <tr>\n",
              "      <th>0</th>\n",
              "      <td>Sunny</td>\n",
              "      <td>Hot</td>\n",
              "      <td>High</td>\n",
              "      <td>Weak</td>\n",
              "    </tr>\n",
              "    <tr>\n",
              "      <th>1</th>\n",
              "      <td>Sunny</td>\n",
              "      <td>Hot</td>\n",
              "      <td>High</td>\n",
              "      <td>Strong</td>\n",
              "    </tr>\n",
              "    <tr>\n",
              "      <th>7</th>\n",
              "      <td>Sunny</td>\n",
              "      <td>Mild</td>\n",
              "      <td>High</td>\n",
              "      <td>Weak</td>\n",
              "    </tr>\n",
              "    <tr>\n",
              "      <th>8</th>\n",
              "      <td>Sunny</td>\n",
              "      <td>Cool</td>\n",
              "      <td>Normal</td>\n",
              "      <td>Weak</td>\n",
              "    </tr>\n",
              "    <tr>\n",
              "      <th>10</th>\n",
              "      <td>Sunny</td>\n",
              "      <td>Mild</td>\n",
              "      <td>Normal</td>\n",
              "      <td>Strong</td>\n",
              "    </tr>\n",
              "  </tbody>\n",
              "</table>\n",
              "</div>\n",
              "      <button class=\"colab-df-convert\" onclick=\"convertToInteractive('df-e6ef8d9f-54c0-4f52-aa9c-359fbe376ccb')\"\n",
              "              title=\"Convert this dataframe to an interactive table.\"\n",
              "              style=\"display:none;\">\n",
              "        \n",
              "  <svg xmlns=\"http://www.w3.org/2000/svg\" height=\"24px\"viewBox=\"0 0 24 24\"\n",
              "       width=\"24px\">\n",
              "    <path d=\"M0 0h24v24H0V0z\" fill=\"none\"/>\n",
              "    <path d=\"M18.56 5.44l.94 2.06.94-2.06 2.06-.94-2.06-.94-.94-2.06-.94 2.06-2.06.94zm-11 1L8.5 8.5l.94-2.06 2.06-.94-2.06-.94L8.5 2.5l-.94 2.06-2.06.94zm10 10l.94 2.06.94-2.06 2.06-.94-2.06-.94-.94-2.06-.94 2.06-2.06.94z\"/><path d=\"M17.41 7.96l-1.37-1.37c-.4-.4-.92-.59-1.43-.59-.52 0-1.04.2-1.43.59L10.3 9.45l-7.72 7.72c-.78.78-.78 2.05 0 2.83L4 21.41c.39.39.9.59 1.41.59.51 0 1.02-.2 1.41-.59l7.78-7.78 2.81-2.81c.8-.78.8-2.07 0-2.86zM5.41 20L4 18.59l7.72-7.72 1.47 1.35L5.41 20z\"/>\n",
              "  </svg>\n",
              "      </button>\n",
              "      \n",
              "  <style>\n",
              "    .colab-df-container {\n",
              "      display:flex;\n",
              "      flex-wrap:wrap;\n",
              "      gap: 12px;\n",
              "    }\n",
              "\n",
              "    .colab-df-convert {\n",
              "      background-color: #E8F0FE;\n",
              "      border: none;\n",
              "      border-radius: 50%;\n",
              "      cursor: pointer;\n",
              "      display: none;\n",
              "      fill: #1967D2;\n",
              "      height: 32px;\n",
              "      padding: 0 0 0 0;\n",
              "      width: 32px;\n",
              "    }\n",
              "\n",
              "    .colab-df-convert:hover {\n",
              "      background-color: #E2EBFA;\n",
              "      box-shadow: 0px 1px 2px rgba(60, 64, 67, 0.3), 0px 1px 3px 1px rgba(60, 64, 67, 0.15);\n",
              "      fill: #174EA6;\n",
              "    }\n",
              "\n",
              "    [theme=dark] .colab-df-convert {\n",
              "      background-color: #3B4455;\n",
              "      fill: #D2E3FC;\n",
              "    }\n",
              "\n",
              "    [theme=dark] .colab-df-convert:hover {\n",
              "      background-color: #434B5C;\n",
              "      box-shadow: 0px 1px 3px 1px rgba(0, 0, 0, 0.15);\n",
              "      filter: drop-shadow(0px 1px 2px rgba(0, 0, 0, 0.3));\n",
              "      fill: #FFFFFF;\n",
              "    }\n",
              "  </style>\n",
              "\n",
              "      <script>\n",
              "        const buttonEl =\n",
              "          document.querySelector('#df-e6ef8d9f-54c0-4f52-aa9c-359fbe376ccb button.colab-df-convert');\n",
              "        buttonEl.style.display =\n",
              "          google.colab.kernel.accessAllowed ? 'block' : 'none';\n",
              "\n",
              "        async function convertToInteractive(key) {\n",
              "          const element = document.querySelector('#df-e6ef8d9f-54c0-4f52-aa9c-359fbe376ccb');\n",
              "          const dataTable =\n",
              "            await google.colab.kernel.invokeFunction('convertToInteractive',\n",
              "                                                     [key], {});\n",
              "          if (!dataTable) return;\n",
              "\n",
              "          const docLinkHtml = 'Like what you see? Visit the ' +\n",
              "            '<a target=\"_blank\" href=https://colab.research.google.com/notebooks/data_table.ipynb>data table notebook</a>'\n",
              "            + ' to learn more about interactive tables.';\n",
              "          element.innerHTML = '';\n",
              "          dataTable['output_type'] = 'display_data';\n",
              "          await google.colab.output.renderOutput(dataTable, element);\n",
              "          const docLink = document.createElement('div');\n",
              "          docLink.innerHTML = docLinkHtml;\n",
              "          element.appendChild(docLink);\n",
              "        }\n",
              "      </script>\n",
              "    </div>\n",
              "  </div>\n",
              "  "
            ],
            "text/plain": [
              "   outlook  temp humidity    wind\n",
              "0    Sunny   Hot     High    Weak\n",
              "1    Sunny   Hot     High  Strong\n",
              "7    Sunny  Mild     High    Weak\n",
              "8    Sunny  Cool   Normal    Weak\n",
              "10   Sunny  Mild   Normal  Strong"
            ]
          },
          "metadata": {},
          "execution_count": 12
        }
      ]
    },
    {
      "cell_type": "code",
      "source": [
        "class Node():\n",
        "  def __init__(self):\n",
        "    pass\n",
        "\n",
        "  def gini(self,X,Y):\n",
        "    return 1-(Y.value_counts(normalize=True)**2).sum()\n",
        "\n",
        "  def fit(self,X,Y):\n",
        "\n",
        "    self.dummy_label = Y.iloc[0] \n",
        "    self.label_dtype = Y.dtype\n",
        "\n",
        "    H=self.gini(X,Y)\n",
        "\n",
        "\n",
        "    if H==0: #PureNode\n",
        "      self.typ = 'pure'\n",
        "      self.ans = Y.iloc[0]\n",
        "    else:\n",
        "      maxIG=0\n",
        "      maxfet=''\n",
        "      for col in X.columns:\n",
        "        wimpurity=0\n",
        "        for val in X[col].unique(): #har column pr unique value aajayega\n",
        "            ind = X[col] == val #True False Aajayega\n",
        "            nx=X[ind]\n",
        "            ny=Y[ind]\n",
        "            wimpurity += nx.shape[0]*self.gini(nx,ny)/X.shape[0]\n",
        "        IG = H-wimpurity\n",
        "        if IG > maxIG:\n",
        "          maxIG = IG \n",
        "          maxfet = col\n",
        "\n",
        "\n",
        "      self.typ = 'decision'\n",
        "      self.fet = maxfet\n",
        "      self.decision ={}\n",
        "      for val in X[maxfet].unique(): #Splitting\n",
        "          node = Node() #object\n",
        "          self.decision[val]=node\n",
        "          ind = X[self.fet]==val\n",
        "          nx=X[ind]\n",
        "          ny=Y[ind]\n",
        "          node.fit(nx,ny)    \n",
        "\n",
        "\n",
        "\n",
        "\n",
        "  def pred(self,x): #x sample kaun se class ka hai\n",
        "    if self.typ == 'pure':#pure wala\n",
        "      return self.ans\n",
        "    else:#decision wala\n",
        "      val = x[self.fet]\n",
        "      return self.decision[val].pred(x)\n",
        "\n",
        "\n",
        "\n",
        "\n",
        "\n",
        "  def  predict(self,X):\n",
        "    y_pred = np.full(X.shape[0],self.dummy_label,dtype=self.label_dtype)\n",
        "\n",
        "    for i,(_,x) in enumerate(X.iterrows()):\n",
        "      lab=self.pred(x)#x sample\n",
        "      y_pred[i]=lab\n",
        "\n",
        "    return y_pred     "
      ],
      "metadata": {
        "id": "O8eNvP_IfvIp"
      },
      "execution_count": 13,
      "outputs": []
    },
    {
      "cell_type": "code",
      "source": [
        "model = Node()\n",
        "model.fit(X,Y)"
      ],
      "metadata": {
        "id": "1_R9ZJ2G2ec9"
      },
      "execution_count": 14,
      "outputs": []
    },
    {
      "cell_type": "code",
      "source": [
        "model.decision['Sunny'].typ"
      ],
      "metadata": {
        "colab": {
          "base_uri": "https://localhost:8080/",
          "height": 35
        },
        "id": "6eIRXr0P2uxr",
        "outputId": "ef25dcb6-3ffe-4013-d1a5-94b803d67477"
      },
      "execution_count": 15,
      "outputs": [
        {
          "output_type": "execute_result",
          "data": {
            "application/vnd.google.colaboratory.intrinsic+json": {
              "type": "string"
            },
            "text/plain": [
              "'decision'"
            ]
          },
          "metadata": {},
          "execution_count": 15
        }
      ]
    },
    {
      "cell_type": "code",
      "source": [
        "model.decision['Sunny'].decision['Normal'].typ"
      ],
      "metadata": {
        "colab": {
          "base_uri": "https://localhost:8080/",
          "height": 35
        },
        "id": "vchs2icp4cWt",
        "outputId": "83e3e896-469c-40af-d5da-48e297dc0d54"
      },
      "execution_count": 16,
      "outputs": [
        {
          "output_type": "execute_result",
          "data": {
            "application/vnd.google.colaboratory.intrinsic+json": {
              "type": "string"
            },
            "text/plain": [
              "'pure'"
            ]
          },
          "metadata": {},
          "execution_count": 16
        }
      ]
    },
    {
      "cell_type": "code",
      "source": [
        "from sklearn.metrics import accuracy_score"
      ],
      "metadata": {
        "id": "uImqwkKu5WQ9"
      },
      "execution_count": 17,
      "outputs": []
    },
    {
      "cell_type": "code",
      "source": [
        "accuracy_score(Y,model.predict(X))"
      ],
      "metadata": {
        "colab": {
          "base_uri": "https://localhost:8080/"
        },
        "id": "GpbUCwLI-KI1",
        "outputId": "959ea228-232e-43b1-f690-f5dc4c98c74e"
      },
      "execution_count": 18,
      "outputs": [
        {
          "output_type": "execute_result",
          "data": {
            "text/plain": [
              "1.0"
            ]
          },
          "metadata": {},
          "execution_count": 18
        }
      ]
    },
    {
      "cell_type": "markdown",
      "source": [
        "#Regression"
      ],
      "metadata": {
        "id": "0wPb9LqxP6uL"
      }
    },
    {
      "cell_type": "code",
      "source": [
        "x=np.linspace(0,360,30)\n",
        "y=np.sin(np.deg2rad(x))\n",
        "\n",
        "plt.scatter(x,y)"
      ],
      "metadata": {
        "colab": {
          "base_uri": "https://localhost:8080/",
          "height": 283
        },
        "id": "9nOV-6ML-P7m",
        "outputId": "1a9656e6-f7bd-45bf-9bd5-23cd7c15ca1a"
      },
      "execution_count": 19,
      "outputs": [
        {
          "output_type": "execute_result",
          "data": {
            "text/plain": [
              "<matplotlib.collections.PathCollection at 0x7f8400fe6a50>"
            ]
          },
          "metadata": {},
          "execution_count": 19
        },
        {
          "output_type": "display_data",
          "data": {
            "image/png": "[encoded data removed]",
            "text/plain": [
              "<Figure size 432x288 with 1 Axes>"
            ]
          },
          "metadata": {
            "needs_background": "light"
          }
        }
      ]
    },
    {
      "cell_type": "code",
      "source": [
        "X=x.reshape(-1,1)"
      ],
      "metadata": {
        "id": "6BXAjja4QI-5"
      },
      "execution_count": 20,
      "outputs": []
    },
    {
      "cell_type": "code",
      "source": [
        "from sklearn.tree import DecisionTreeRegressor\n",
        "\n",
        "reg = DecisionTreeRegressor()\n",
        "\n",
        "reg.fit(X,y)"
      ],
      "metadata": {
        "colab": {
          "base_uri": "https://localhost:8080/"
        },
        "id": "2rtIT9BpSUhc",
        "outputId": "b6f4d3a0-b30c-41c7-905a-b44abc9d67a8"
      },
      "execution_count": 21,
      "outputs": [
        {
          "output_type": "execute_result",
          "data": {
            "text/plain": [
              "DecisionTreeRegressor()"
            ]
          },
          "metadata": {},
          "execution_count": 21
        }
      ]
    },
    {
      "cell_type": "code",
      "source": [
        "plt.scatter(x,y,label='Actual')\n",
        "plt.scatter(x,reg.predict(X),label=\"Predicted\")\n",
        "plt.legend()\n",
        "plt.show()"
      ],
      "metadata": {
        "colab": {
          "base_uri": "https://localhost:8080/",
          "height": 265
        },
        "id": "T_bFoesUSg-s",
        "outputId": "8fe9f263-127a-4ccf-8491-525a864b4cfa"
      },
      "execution_count": 22,
      "outputs": [
        {
          "output_type": "display_data",
          "data": {
            "image/png": "[encoded data removed]",
            "text/plain": [
              "<Figure size 432x288 with 1 Axes>"
            ]
          },
          "metadata": {
            "needs_background": "light"
          }
        }
      ]
    },
    {
      "cell_type": "code",
      "source": [
        "from sklearn import tree\n",
        "tree.plot_tree(reg)\n",
        "plt.show()"
      ],
      "metadata": {
        "colab": {
          "base_uri": "https://localhost:8080/",
          "height": 248
        },
        "id": "MVWeBGo_SuDE",
        "outputId": "8106eb77-7228-4091-f56e-7a072cedb48d"
      },
      "execution_count": 23,
      "outputs": [
        {
          "output_type": "display_data",
          "data": {
            "image/png": "[encoded data removed]",
            "text/plain": [
              "<Figure size 432x288 with 1 Axes>"
            ]
          },
          "metadata": {
            "needs_background": "light"
          }
        }
      ]
    },
    {
      "cell_type": "code",
      "source": [
        "reg = DecisionTreeRegressor(max_depth = 3) #stop tree growth using depth\n",
        "\n",
        "reg.fit(X,y)\n",
        "\n"
      ],
      "metadata": {
        "colab": {
          "base_uri": "https://localhost:8080/"
        },
        "id": "sTvERiOIS6zr",
        "outputId": "d55e003f-6fa0-4b02-cde4-200edf93394e"
      },
      "execution_count": 24,
      "outputs": [
        {
          "output_type": "execute_result",
          "data": {
            "text/plain": [
              "DecisionTreeRegressor(max_depth=3)"
            ]
          },
          "metadata": {},
          "execution_count": 24
        }
      ]
    },
    {
      "cell_type": "code",
      "source": [
        "plt.scatter(x,y,label='actual')\n",
        "plt.plot(x,reg.predict(X),label='predict',color = 'r')"
      ],
      "metadata": {
        "colab": {
          "base_uri": "https://localhost:8080/",
          "height": 283
        },
        "id": "8gYg8teEepPp",
        "outputId": "45601545-1244-459b-8512-62699dc46172"
      },
      "execution_count": 25,
      "outputs": [
        {
          "output_type": "execute_result",
          "data": {
            "text/plain": [
              "[<matplotlib.lines.Line2D at 0x7f8400157d10>]"
            ]
          },
          "metadata": {},
          "execution_count": 25
        },
        {
          "output_type": "display_data",
          "data": {
            "image/png": "[encoded data removed]",
            "text/plain": [
              "<Figure size 432x288 with 1 Axes>"
            ]
          },
          "metadata": {
            "needs_background": "light"
          }
        }
      ]
    },
    {
      "cell_type": "code",
      "source": [
        "from ipywidgets import interact\n",
        "\n",
        "\n"
      ],
      "metadata": {
        "id": "gi-VGjrWe4fh"
      },
      "execution_count": 26,
      "outputs": []
    },
    {
      "cell_type": "code",
      "source": [
        "def fun(max_depth,min_samples_split):\n",
        "  reg = DecisionTreeRegressor(max_depth = max_depth,min_samples_split=min_samples_split)\n",
        "  reg.fit(X,y)\n",
        "  print('depth',reg.get_depth())\n",
        "  plt.scatter(x,y,label = 'actual')\n",
        "  plt.scatter(x,reg.predict(X),label = 'predict',color = 'r')\n",
        "  plt.legend()\n",
        "  plt.show()\n",
        "  plt.figure(figsize=(10,10))\n",
        "  tree.plot_tree(reg,filled=True)\n",
        "  plt.show()\n",
        "\n",
        "interact(fun,max_depth=3,min_samples_split=3)  \n"
      ],
      "metadata": {
        "colab": {
          "base_uri": "https://localhost:8080/",
          "height": 922,
          "referenced_widgets": [
            "b7b15fe9620b436fbad58e22eb0fa1c8",
            "48ae9a2848e042b9b8d7aad3ad991035",
            "2507cfe0f83f464d9b5197a11dbbfdf3",
            "8a4a4fd517a44a74bf2e1f1fca49e6c8",
            "8e5ad9a827414b9b8a0ff3e573bee653",
            "96245151b54f4742aff6df45fd90808a",
            "36df317cc2414fca999c04ebfad07f24",
            "128154f1b53a45849c54c75c62d1771f",
            "2d8030de9c364279ae23aab9edd4341d",
            "1e71662d6ba24a19b5c45cac48c252c5"
          ]
        },
        "id": "o20FTJUYj77M",
        "outputId": "b33d48d5-1f3d-4e73-bf1a-82662983804a"
      },
      "execution_count": 27,
      "outputs": [
        {
          "output_type": "display_data",
          "data": {
            "application/vnd.jupyter.widget-view+json": {
              "model_id": "b7b15fe9620b436fbad58e22eb0fa1c8",
              "version_minor": 0,
              "version_major": 2
            },
            "text/plain": [
              "interactive(children=(IntSlider(value=3, description='max_depth', max=9, min=-3), IntSlider(value=3, descripti…"
            ]
          },
          "metadata": {}
        },
        {
          "output_type": "execute_result",
          "data": {
            "text/plain": [
              "<function __main__.fun>"
            ]
          },
          "metadata": {},
          "execution_count": 27
        }
      ]
    },
    {
      "cell_type": "markdown",
      "source": [
        "# Classification"
      ],
      "metadata": {
        "id": "NF2cCkparCww"
      }
    },
    {
      "cell_type": "code",
      "source": [
        "\n",
        "from sklearn.datasets import make_circles\n",
        "\n",
        "X,y = make_circles(noise=0.5)\n",
        "plt.scatter(X[:,0],X[:,1],c=y)\n",
        "plt.show()\n"
      ],
      "metadata": {
        "colab": {
          "base_uri": "https://localhost:8080/",
          "height": 265
        },
        "id": "_0yginhAlOqQ",
        "outputId": "a0bb1a12-e2f9-44d7-9621-0834d3b526a2"
      },
      "execution_count": 28,
      "outputs": [
        {
          "output_type": "display_data",
          "data": {
            "image/png": "[encoded data removed]",
            "text/plain": [
              "<Figure size 432x288 with 1 Axes>"
            ]
          },
          "metadata": {
            "needs_background": "light"
          }
        }
      ]
    },
    {
      "cell_type": "code",
      "source": [
        "\n",
        "from sklearn.tree import DecisionTreeClassifier\n",
        "from mlxtend.plotting import plot_decision_regions\n",
        "\n",
        "\n",
        "\n",
        "\n",
        "def fun(max_depth,mf):\n",
        "  reg = DecisionTreeClassifier(max_depth = max_depth,max_features=mf)\n",
        "  reg.fit(X,y)\n",
        "  print('depth',reg.get_depth())\n",
        "  plot_decision_regions(X,y,clf=reg)\n",
        "  plt.show()\n",
        "  plt.figure(figsize=(10,10))\n",
        "  tree.plot_tree(reg,filled=True)\n",
        "  plt.show()\n",
        "\n",
        "interact(fun,max_depth=3,mf=1.0)"
      ],
      "metadata": {
        "colab": {
          "base_uri": "https://localhost:8080/",
          "height": 973,
          "referenced_widgets": [
            "42c2f0d8e68c44a098ebf0eabf4e42b6",
            "8d23ec42eb754100a475f40f210c4981",
            "15f91a986beb4cd4a68d165d78b8eb0d",
            "41df2385aba04afdbe85288ae64d1943",
            "d08d4f83c9f84db297c095d5c3021cd5",
            "271fe623c4d3470d8df7162900307eb9",
            "2cdeb520272c4b0299f85b329d67816b",
            "e059ae5de06f433e8cc52a736a81f64f",
            "ce7c1139b79e40e9a1f9daabec932a1f",
            "f56ae119f5984e52873ed47eb1037eac"
          ]
        },
        "id": "7WsBfDpUrA_J",
        "outputId": "2dd0b080-f6cf-4ba3-8f45-9f2510878df7"
      },
      "execution_count": 29,
      "outputs": [
        {
          "output_type": "display_data",
          "data": {
            "application/vnd.jupyter.widget-view+json": {
              "model_id": "42c2f0d8e68c44a098ebf0eabf4e42b6",
              "version_minor": 0,
              "version_major": 2
            },
            "text/plain": [
              "interactive(children=(IntSlider(value=3, description='max_depth', max=9, min=-3), FloatSlider(value=1.0, descr…"
            ]
          },
          "metadata": {}
        },
        {
          "output_type": "execute_result",
          "data": {
            "text/plain": [
              "<function __main__.fun>"
            ]
          },
          "metadata": {},
          "execution_count": 29
        }
      ]
    },
    {
      "cell_type": "code",
      "source": [
        "def fun(alpha):\n",
        "  reg = DecisionTreeClassifier(ccp_alpha=alpha)\n",
        "  reg.fit(X,y)\n",
        "  print('depth',reg.get_depth())\n",
        "  plot_decision_regions(X,y,clf=reg)\n",
        "  plt.show()\n",
        "  plt.figure(figsize=(10,10))\n",
        "  tree.plot_tree(reg,filled=True)\n",
        "  plt.show()\n",
        "\n",
        "interact(fun,alpha=10)"
      ],
      "metadata": {
        "id": "Z954JmYhlX7c",
        "colab": {
          "base_uri": "https://localhost:8080/",
          "height": 976,
          "referenced_widgets": [
            "c726822e27fc4410be061c03665496a3",
            "5fba465641ea4826af26ab52f0e755fb",
            "ee1dd253179843bcb2881312e9e6be85",
            "d5c42b3d764146459d78080e3ba0e7ee",
            "f7ebc9e65cca483983cdc7825264d455",
            "bf01eaba8a4e4c82b9fd8d0942deedcd",
            "85f33dc3b0644b6fb1b5bf44b6b77998"
          ]
        },
        "outputId": "20f793e6-7219-444d-f67e-9e4743fe97a4"
      },
      "execution_count": 30,
      "outputs": [
        {
          "output_type": "display_data",
          "data": {
            "application/vnd.jupyter.widget-view+json": {
              "model_id": "c726822e27fc4410be061c03665496a3",
              "version_minor": 0,
              "version_major": 2
            },
            "text/plain": [
              "interactive(children=(IntSlider(value=10, description='alpha', max=30, min=-10), Output()), _dom_classes=('wid…"
            ]
          },
          "metadata": {}
        },
        {
          "output_type": "execute_result",
          "data": {
            "text/plain": [
              "<function __main__.fun>"
            ]
          },
          "metadata": {},
          "execution_count": 30
        }
      ]
    },
    {
      "cell_type": "code",
      "source": [
        ""
      ],
      "metadata": {
        "id": "fc2mg3VS2suB"
      },
      "execution_count": null,
      "outputs": []
    }
  ]
}